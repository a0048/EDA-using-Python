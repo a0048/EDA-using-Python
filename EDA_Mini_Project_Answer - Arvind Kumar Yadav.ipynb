{
 "cells": [
  {
   "cell_type": "markdown",
   "metadata": {},
   "source": [
    "<h1 class=\"list-group-item list-group-item-action active\" data-toggle=\"list\"  role=\"tab\" aria-controls=\"home\">Exploratory Data Analysis Mini Project </h1>\n",
    "     \n"
   ]
  },
  {
   "cell_type": "markdown",
   "metadata": {},
   "source": [
    "<h4 class=\"list-group-item list-group-item-action active\" >1. DESCRIPTIVE STATISTICS</h4>\n",
    "\n",
    ">#### 1. Create a dataframe using below data and answer the below questions:\n",
    "\n",
    "        Hourly_Income = [1000,2009,24418,444478,324235,243242,3434234,7567457,9235,238237,1312,3412]\n",
    "        Hourly_Expense =  [651361,217371,2746,2356,13436,5732,346346,3463,1132,23534,242235,235235]\n",
    "        family_members_count = [3,4,2,3,1,4,5,6,3,6,3,5]\n",
    "        House_rent = [1299,2300,3411,3422,4566,4211,4600,736,672,0,734,2374]\n",
    "        Highest_income_Member = [\"Olivia\",\"George\",\"Isla\",\"Harry\",\"Ava\",\"Noah\",\"Sophia\",\"Jacobi\",\"Freddie\",\"Ella\",\"Grace\",\"Ella\"]\n",
    "        \n",
    "        \n",
    ">##### A. Display the five point summary of the data. \n",
    ">##### B. What is the mean of the hourly expense?\n",
    ">##### C. What is the median of the hourly expense?\n",
    ">##### D. Find the family member with maximum income and using a suitable graph.\n",
    ">##### E. Calculate IQR(the difference between 75% and 25% quartile) for `Hourly_Income` and `Hourly_Expense`.\n",
    ">##### F. Calculate the standard deviation for first 2 columns.\n",
    ">##### G. Calculate variance for the first 4 columns"
   ]
  },
  {
   "cell_type": "markdown",
   "metadata": {},
   "source": [
    "### A. Display the five point summary of the data."
   ]
  },
  {
   "cell_type": "code",
   "execution_count": 1,
   "metadata": {},
   "outputs": [],
   "source": [
    "import numpy as np\n",
    "import pandas as pd\n",
    "import matplotlib.pyplot as plt\n",
    "import seaborn as sns\n",
    "import warnings\n",
    "warnings.filterwarnings('ignore')"
   ]
  },
  {
   "cell_type": "code",
   "execution_count": 2,
   "metadata": {},
   "outputs": [],
   "source": [
    "a = {'Hourly_Income':[1000,2009,24418,444478,324235,243242,3434234,7567457,9235,238237,1312,3412],\n",
    "'Hourly_Expense':[651361,217371,2746,2356,13436,5732,346346,3463,1132,23534,242235,235235],\n",
    "'family_members_count':[3,4,2,3,1,4,5,6,3,6,3,5],\n",
    "'House_rent': [1299,2300,3411,3422,4566,4211,4600,736,672,0,734,2374],\n",
    "'Highest_income_Member':[\"Olivia\",\"George\",\"Isla\",\"Harry\",\"Ava\",\"Noah\",\"Sophia\",\"Jacobi\",\"Freddie\",\"Ella\",\"Grace\",\"Ella\"]}"
   ]
  },
  {
   "cell_type": "code",
   "execution_count": 3,
   "metadata": {},
   "outputs": [
    {
     "data": {
      "text/html": [
       "<div>\n",
       "<style scoped>\n",
       "    .dataframe tbody tr th:only-of-type {\n",
       "        vertical-align: middle;\n",
       "    }\n",
       "\n",
       "    .dataframe tbody tr th {\n",
       "        vertical-align: top;\n",
       "    }\n",
       "\n",
       "    .dataframe thead th {\n",
       "        text-align: right;\n",
       "    }\n",
       "</style>\n",
       "<table border=\"1\" class=\"dataframe\">\n",
       "  <thead>\n",
       "    <tr style=\"text-align: right;\">\n",
       "      <th></th>\n",
       "      <th>Hourly_Income</th>\n",
       "      <th>Hourly_Expense</th>\n",
       "      <th>family_members_count</th>\n",
       "      <th>House_rent</th>\n",
       "      <th>Highest_income_Member</th>\n",
       "    </tr>\n",
       "  </thead>\n",
       "  <tbody>\n",
       "    <tr>\n",
       "      <th>0</th>\n",
       "      <td>1000</td>\n",
       "      <td>651361</td>\n",
       "      <td>3</td>\n",
       "      <td>1299</td>\n",
       "      <td>Olivia</td>\n",
       "    </tr>\n",
       "    <tr>\n",
       "      <th>1</th>\n",
       "      <td>2009</td>\n",
       "      <td>217371</td>\n",
       "      <td>4</td>\n",
       "      <td>2300</td>\n",
       "      <td>George</td>\n",
       "    </tr>\n",
       "    <tr>\n",
       "      <th>2</th>\n",
       "      <td>24418</td>\n",
       "      <td>2746</td>\n",
       "      <td>2</td>\n",
       "      <td>3411</td>\n",
       "      <td>Isla</td>\n",
       "    </tr>\n",
       "    <tr>\n",
       "      <th>3</th>\n",
       "      <td>444478</td>\n",
       "      <td>2356</td>\n",
       "      <td>3</td>\n",
       "      <td>3422</td>\n",
       "      <td>Harry</td>\n",
       "    </tr>\n",
       "    <tr>\n",
       "      <th>4</th>\n",
       "      <td>324235</td>\n",
       "      <td>13436</td>\n",
       "      <td>1</td>\n",
       "      <td>4566</td>\n",
       "      <td>Ava</td>\n",
       "    </tr>\n",
       "    <tr>\n",
       "      <th>5</th>\n",
       "      <td>243242</td>\n",
       "      <td>5732</td>\n",
       "      <td>4</td>\n",
       "      <td>4211</td>\n",
       "      <td>Noah</td>\n",
       "    </tr>\n",
       "    <tr>\n",
       "      <th>6</th>\n",
       "      <td>3434234</td>\n",
       "      <td>346346</td>\n",
       "      <td>5</td>\n",
       "      <td>4600</td>\n",
       "      <td>Sophia</td>\n",
       "    </tr>\n",
       "    <tr>\n",
       "      <th>7</th>\n",
       "      <td>7567457</td>\n",
       "      <td>3463</td>\n",
       "      <td>6</td>\n",
       "      <td>736</td>\n",
       "      <td>Jacobi</td>\n",
       "    </tr>\n",
       "    <tr>\n",
       "      <th>8</th>\n",
       "      <td>9235</td>\n",
       "      <td>1132</td>\n",
       "      <td>3</td>\n",
       "      <td>672</td>\n",
       "      <td>Freddie</td>\n",
       "    </tr>\n",
       "    <tr>\n",
       "      <th>9</th>\n",
       "      <td>238237</td>\n",
       "      <td>23534</td>\n",
       "      <td>6</td>\n",
       "      <td>0</td>\n",
       "      <td>Ella</td>\n",
       "    </tr>\n",
       "    <tr>\n",
       "      <th>10</th>\n",
       "      <td>1312</td>\n",
       "      <td>242235</td>\n",
       "      <td>3</td>\n",
       "      <td>734</td>\n",
       "      <td>Grace</td>\n",
       "    </tr>\n",
       "    <tr>\n",
       "      <th>11</th>\n",
       "      <td>3412</td>\n",
       "      <td>235235</td>\n",
       "      <td>5</td>\n",
       "      <td>2374</td>\n",
       "      <td>Ella</td>\n",
       "    </tr>\n",
       "  </tbody>\n",
       "</table>\n",
       "</div>"
      ],
      "text/plain": [
       "    Hourly_Income  Hourly_Expense  family_members_count  House_rent  \\\n",
       "0            1000          651361                     3        1299   \n",
       "1            2009          217371                     4        2300   \n",
       "2           24418            2746                     2        3411   \n",
       "3          444478            2356                     3        3422   \n",
       "4          324235           13436                     1        4566   \n",
       "5          243242            5732                     4        4211   \n",
       "6         3434234          346346                     5        4600   \n",
       "7         7567457            3463                     6         736   \n",
       "8            9235            1132                     3         672   \n",
       "9          238237           23534                     6           0   \n",
       "10           1312          242235                     3         734   \n",
       "11           3412          235235                     5        2374   \n",
       "\n",
       "   Highest_income_Member  \n",
       "0                 Olivia  \n",
       "1                 George  \n",
       "2                   Isla  \n",
       "3                  Harry  \n",
       "4                    Ava  \n",
       "5                   Noah  \n",
       "6                 Sophia  \n",
       "7                 Jacobi  \n",
       "8                Freddie  \n",
       "9                   Ella  \n",
       "10                 Grace  \n",
       "11                  Ella  "
      ]
     },
     "execution_count": 3,
     "metadata": {},
     "output_type": "execute_result"
    }
   ],
   "source": [
    "df = pd.DataFrame(a)\n",
    "df"
   ]
  },
  {
   "cell_type": "code",
   "execution_count": 4,
   "metadata": {},
   "outputs": [
    {
     "data": {
      "text/html": [
       "<div>\n",
       "<style scoped>\n",
       "    .dataframe tbody tr th:only-of-type {\n",
       "        vertical-align: middle;\n",
       "    }\n",
       "\n",
       "    .dataframe tbody tr th {\n",
       "        vertical-align: top;\n",
       "    }\n",
       "\n",
       "    .dataframe thead th {\n",
       "        text-align: right;\n",
       "    }\n",
       "</style>\n",
       "<table border=\"1\" class=\"dataframe\">\n",
       "  <thead>\n",
       "    <tr style=\"text-align: right;\">\n",
       "      <th></th>\n",
       "      <th>Hourly_Income</th>\n",
       "      <th>Hourly_Expense</th>\n",
       "      <th>family_members_count</th>\n",
       "      <th>House_rent</th>\n",
       "    </tr>\n",
       "  </thead>\n",
       "  <tbody>\n",
       "    <tr>\n",
       "      <th>count</th>\n",
       "      <td>12</td>\n",
       "      <td>12</td>\n",
       "      <td>12</td>\n",
       "      <td>12</td>\n",
       "    </tr>\n",
       "    <tr>\n",
       "      <th>mean</th>\n",
       "      <td>1024439</td>\n",
       "      <td>145412</td>\n",
       "      <td>3</td>\n",
       "      <td>2360</td>\n",
       "    </tr>\n",
       "    <tr>\n",
       "      <th>std</th>\n",
       "      <td>2274082</td>\n",
       "      <td>202831</td>\n",
       "      <td>1</td>\n",
       "      <td>1661</td>\n",
       "    </tr>\n",
       "    <tr>\n",
       "      <th>min</th>\n",
       "      <td>1000</td>\n",
       "      <td>1132</td>\n",
       "      <td>1</td>\n",
       "      <td>0</td>\n",
       "    </tr>\n",
       "    <tr>\n",
       "      <th>25%</th>\n",
       "      <td>3061</td>\n",
       "      <td>3283</td>\n",
       "      <td>3</td>\n",
       "      <td>735</td>\n",
       "    </tr>\n",
       "    <tr>\n",
       "      <th>50%</th>\n",
       "      <td>131327</td>\n",
       "      <td>18485</td>\n",
       "      <td>3</td>\n",
       "      <td>2337</td>\n",
       "    </tr>\n",
       "    <tr>\n",
       "      <th>75%</th>\n",
       "      <td>354295</td>\n",
       "      <td>236985</td>\n",
       "      <td>5</td>\n",
       "      <td>3619</td>\n",
       "    </tr>\n",
       "    <tr>\n",
       "      <th>max</th>\n",
       "      <td>7567457</td>\n",
       "      <td>651361</td>\n",
       "      <td>6</td>\n",
       "      <td>4600</td>\n",
       "    </tr>\n",
       "  </tbody>\n",
       "</table>\n",
       "</div>"
      ],
      "text/plain": [
       "       Hourly_Income  Hourly_Expense  family_members_count  House_rent\n",
       "count             12              12                    12          12\n",
       "mean         1024439          145412                     3        2360\n",
       "std          2274082          202831                     1        1661\n",
       "min             1000            1132                     1           0\n",
       "25%             3061            3283                     3         735\n",
       "50%           131327           18485                     3        2337\n",
       "75%           354295          236985                     5        3619\n",
       "max          7567457          651361                     6        4600"
      ]
     },
     "execution_count": 4,
     "metadata": {},
     "output_type": "execute_result"
    }
   ],
   "source": [
    "df.describe().astype('int')     # Five point Summary"
   ]
  },
  {
   "cell_type": "markdown",
   "metadata": {},
   "source": [
    " # B. What is the mean of the hourly expense?"
   ]
  },
  {
   "cell_type": "code",
   "execution_count": 5,
   "metadata": {},
   "outputs": [
    {
     "data": {
      "text/plain": [
       "145412.25"
      ]
     },
     "execution_count": 5,
     "metadata": {},
     "output_type": "execute_result"
    }
   ],
   "source": [
    "df['Hourly_Expense'].mean()"
   ]
  },
  {
   "cell_type": "markdown",
   "metadata": {},
   "source": [
    "Conclusion:\n",
    "\n",
    "The mean of Hourly_Expense is : 145412.25"
   ]
  },
  {
   "cell_type": "markdown",
   "metadata": {},
   "source": [
    "# C. What is the median of the hourly expense?"
   ]
  },
  {
   "cell_type": "code",
   "execution_count": 6,
   "metadata": {},
   "outputs": [
    {
     "data": {
      "text/plain": [
       "18485.0"
      ]
     },
     "execution_count": 6,
     "metadata": {},
     "output_type": "execute_result"
    }
   ],
   "source": [
    "df['Hourly_Expense'].median()"
   ]
  },
  {
   "cell_type": "markdown",
   "metadata": {},
   "source": [
    "Conclusion:\n",
    "\n",
    "The median of Hourly_Expense is : 145412.25"
   ]
  },
  {
   "cell_type": "markdown",
   "metadata": {},
   "source": [
    " # D. Find the family member with maximum income and using a suitable graph."
   ]
  },
  {
   "cell_type": "code",
   "execution_count": 7,
   "metadata": {},
   "outputs": [
    {
     "data": {
      "image/png": "[encoded data removed]",
      "text/plain": [
       "<Figure size 720x576 with 1 Axes>"
      ]
     },
     "metadata": {
      "needs_background": "light"
     },
     "output_type": "display_data"
    }
   ],
   "source": [
    "plt.figure(figsize=(10,8))\n",
    "\n",
    "sns.barplot(x = df['Highest_income_Member'], y= df['Hourly_Income'],data =df)\n",
    "plt.ticklabel_format(useOffset=False,style='plain', axis='y') "
   ]
  },
  {
   "cell_type": "markdown",
   "metadata": {},
   "source": [
    "Observation:\n",
    "\n",
    "From above graph we have concluded that Jacobi is highest earning member in the family which is more than 7000000."
   ]
  },
  {
   "cell_type": "markdown",
   "metadata": {},
   "source": [
    "# E. Calculate IQR(the difference between 75% and 25% quartile) for Hourly_Income and Hourly_Expense."
   ]
  },
  {
   "cell_type": "code",
   "execution_count": 8,
   "metadata": {},
   "outputs": [
    {
     "name": "stdout",
     "output_type": "stream",
     "text": [
      "IQR for Hourly_Expense: 3283.75\n",
      "IQR for Hourly_Income: 3061.25\n"
     ]
    }
   ],
   "source": [
    "Q1=df['Hourly_Expense'].quantile(0.25)\n",
    "Q3=df['Hourly_Expense'].quantile(0.75)\n",
    "IQR=Q3=Q1\n",
    "print(\"IQR for Hourly_Expense:\",IQR)\n",
    "Q1=df['Hourly_Income'].quantile(0.25)\n",
    "Q3=df['Hourly_Income'].quantile(0.75)\n",
    "IQR=Q3=Q1\n",
    "print(\"IQR for Hourly_Income:\",IQR)"
   ]
  },
  {
   "cell_type": "markdown",
   "metadata": {},
   "source": [
    "# F. Calculate the standard deviation for first 2 columns."
   ]
  },
  {
   "cell_type": "code",
   "execution_count": 9,
   "metadata": {},
   "outputs": [
    {
     "name": "stdout",
     "output_type": "stream",
     "text": [
      "Standard deviation for Hourly_Expense 202831.56533265588\n",
      "Standard deviation for Hourly_Income 2274082.7497064094\n"
     ]
    }
   ],
   "source": [
    "std1=df['Hourly_Expense'].std()\n",
    "print(\"Standard deviation for Hourly_Expense\",std1)\n",
    "std2=df['Hourly_Income'].std()\n",
    "print(\"Standard deviation for Hourly_Income\",std2)"
   ]
  },
  {
   "cell_type": "markdown",
   "metadata": {},
   "source": [
    "# G. Calculate variance for the first 4 columns"
   ]
  },
  {
   "cell_type": "code",
   "execution_count": 10,
   "metadata": {},
   "outputs": [
    {
     "name": "stdout",
     "output_type": "stream",
     "text": [
      "    Hourly_Income  Hourly_Expense  family_members_count  House_rent\n",
      "0            1000          651361                     3        1299\n",
      "1            2009          217371                     4        2300\n",
      "2           24418            2746                     2        3411\n",
      "3          444478            2356                     3        3422\n",
      "4          324235           13436                     1        4566\n",
      "5          243242            5732                     4        4211\n",
      "6         3434234          346346                     5        4600\n",
      "7         7567457            3463                     6         736\n",
      "8            9235            1132                     3         672\n",
      "9          238237           23534                     6           0\n",
      "10           1312          242235                     3         734\n",
      "11           3412          235235                     5        2374\n"
     ]
    }
   ],
   "source": [
    "X=df.drop('Highest_income_Member',axis=1)\n",
    "print(X)"
   ]
  },
  {
   "cell_type": "code",
   "execution_count": 11,
   "metadata": {},
   "outputs": [
    {
     "data": {
      "text/plain": [
       "Hourly_Income          -2147483648\n",
       "Hourly_Expense         -2147483648\n",
       "family_members_count             2\n",
       "House_rent                 2761126\n",
       "dtype: int32"
      ]
     },
     "execution_count": 11,
     "metadata": {},
     "output_type": "execute_result"
    }
   ],
   "source": [
    "X.var().astype('int')"
   ]
  },
  {
   "cell_type": "markdown",
   "metadata": {},
   "source": [
    "# Conclusion:\n",
    "  ### The variance of Hourly_Income is -2147483648\n",
    " ### The variance of Hourly_Expense is -2147483648\n",
    "  ### The variance of family_members_count is 2\n",
    "  ### The variance of House_rent is 2761126"
   ]
  },
  {
   "cell_type": "markdown",
   "metadata": {},
   "source": [
    "<h4 class=\"list-group-item list-group-item-action active\" >2. Preliminary Wrangling,</h4>\n",
    "\n",
    ">### Dataset Information: \n",
    "\n",
    "Dataset recording people to invest in each other in a way that is financially and socially rewarding. On loans, borrowers list loan requests between $ 2,000 and $ 35,000 and individual investors invest as little as $ 25 in each loan listing they select. Prosper handles the servicing of the loan on behalf of the matched borrowers and investors.\n",
    "\n",
    "\n",
    "\n",
    "\n",
    ">#### A. Read the dataset called Pri-Load.csv\n",
    ">#### B.  Check the data type and adjust datatype for all other categorical columns.\n",
    ">#### C. If you find any of the missing values in the ProsperRating column, then drop it.\n",
    "\n"
   ]
  },
  {
   "cell_type": "markdown",
   "metadata": {},
   "source": [
    ">#### A. Read the dataset called Pri-Load.csv"
   ]
  },
  {
   "cell_type": "code",
   "execution_count": 12,
   "metadata": {},
   "outputs": [],
   "source": [
    "# importing important libraries\n",
    "import numpy as np\n",
    "import pandas as pd\n",
    "import matplotlib.pyplot as plt\n",
    "import seaborn as sns\n",
    "import warnings\n",
    "warnings.filterwarnings('ignore')"
   ]
  },
  {
   "cell_type": "code",
   "execution_count": 13,
   "metadata": {},
   "outputs": [],
   "source": [
    "df = pd.read_csv('Downloads/Pri-Load.csv')"
   ]
  },
  {
   "cell_type": "code",
   "execution_count": 14,
   "metadata": {},
   "outputs": [
    {
     "data": {
      "text/html": [
       "<div>\n",
       "<style scoped>\n",
       "    .dataframe tbody tr th:only-of-type {\n",
       "        vertical-align: middle;\n",
       "    }\n",
       "\n",
       "    .dataframe tbody tr th {\n",
       "        vertical-align: top;\n",
       "    }\n",
       "\n",
       "    .dataframe thead th {\n",
       "        text-align: right;\n",
       "    }\n",
       "</style>\n",
       "<table border=\"1\" class=\"dataframe\">\n",
       "  <thead>\n",
       "    <tr style=\"text-align: right;\">\n",
       "      <th></th>\n",
       "      <th>ListingCreationDate</th>\n",
       "      <th>Term</th>\n",
       "      <th>LoanStatus</th>\n",
       "      <th>ClosedDate</th>\n",
       "      <th>BorrowerAPR</th>\n",
       "      <th>BorrowerRate</th>\n",
       "      <th>LenderYield</th>\n",
       "      <th>ProsperRating (Alpha)</th>\n",
       "      <th>ProsperScore</th>\n",
       "      <th>ListingCategory (numeric)</th>\n",
       "      <th>...</th>\n",
       "      <th>EmploymentStatus</th>\n",
       "      <th>AmountDelinquent</th>\n",
       "      <th>StatedMonthlyIncome</th>\n",
       "      <th>LoanCurrentDaysDelinquent</th>\n",
       "      <th>LoanOriginalAmount</th>\n",
       "      <th>LoanOriginationDate</th>\n",
       "      <th>LoanOriginationQuarter</th>\n",
       "      <th>MonthlyLoanPayment</th>\n",
       "      <th>LP_InterestandFees</th>\n",
       "      <th>Investors</th>\n",
       "    </tr>\n",
       "  </thead>\n",
       "  <tbody>\n",
       "    <tr>\n",
       "      <th>0</th>\n",
       "      <td>2007-08-26 19:09:29.263000000</td>\n",
       "      <td>36</td>\n",
       "      <td>Completed</td>\n",
       "      <td>14-08-2009 0.00</td>\n",
       "      <td>0.16516</td>\n",
       "      <td>0.1580</td>\n",
       "      <td>0.1380</td>\n",
       "      <td>NaN</td>\n",
       "      <td>NaN</td>\n",
       "      <td>0</td>\n",
       "      <td>...</td>\n",
       "      <td>Self-employed</td>\n",
       "      <td>472.0</td>\n",
       "      <td>3083.333333</td>\n",
       "      <td>0</td>\n",
       "      <td>9425</td>\n",
       "      <td>12-09-2007 0.00</td>\n",
       "      <td>Q3 2007</td>\n",
       "      <td>330.43</td>\n",
       "      <td>1971.14</td>\n",
       "      <td>258</td>\n",
       "    </tr>\n",
       "    <tr>\n",
       "      <th>1</th>\n",
       "      <td>2014-02-27 08:28:07.900000000</td>\n",
       "      <td>36</td>\n",
       "      <td>Current</td>\n",
       "      <td>NaN</td>\n",
       "      <td>0.12016</td>\n",
       "      <td>0.0920</td>\n",
       "      <td>0.0820</td>\n",
       "      <td>A</td>\n",
       "      <td>7.0</td>\n",
       "      <td>2</td>\n",
       "      <td>...</td>\n",
       "      <td>Employed</td>\n",
       "      <td>0.0</td>\n",
       "      <td>6125.000000</td>\n",
       "      <td>0</td>\n",
       "      <td>10000</td>\n",
       "      <td>03-03-2014 0.00</td>\n",
       "      <td>Q1 2014</td>\n",
       "      <td>318.93</td>\n",
       "      <td>0.00</td>\n",
       "      <td>1</td>\n",
       "    </tr>\n",
       "    <tr>\n",
       "      <th>2</th>\n",
       "      <td>2007-01-05 15:00:47.090000000</td>\n",
       "      <td>36</td>\n",
       "      <td>Completed</td>\n",
       "      <td>17-12-2009 0.00</td>\n",
       "      <td>0.28269</td>\n",
       "      <td>0.2750</td>\n",
       "      <td>0.2400</td>\n",
       "      <td>NaN</td>\n",
       "      <td>NaN</td>\n",
       "      <td>0</td>\n",
       "      <td>...</td>\n",
       "      <td>Not available</td>\n",
       "      <td>NaN</td>\n",
       "      <td>2083.333333</td>\n",
       "      <td>0</td>\n",
       "      <td>3001</td>\n",
       "      <td>17-01-2007 0.00</td>\n",
       "      <td>Q1 2007</td>\n",
       "      <td>123.32</td>\n",
       "      <td>1185.63</td>\n",
       "      <td>41</td>\n",
       "    </tr>\n",
       "    <tr>\n",
       "      <th>3</th>\n",
       "      <td>2012-10-22 11:02:35.010000000</td>\n",
       "      <td>36</td>\n",
       "      <td>Current</td>\n",
       "      <td>NaN</td>\n",
       "      <td>0.12528</td>\n",
       "      <td>0.0974</td>\n",
       "      <td>0.0874</td>\n",
       "      <td>A</td>\n",
       "      <td>9.0</td>\n",
       "      <td>16</td>\n",
       "      <td>...</td>\n",
       "      <td>Employed</td>\n",
       "      <td>10056.0</td>\n",
       "      <td>2875.000000</td>\n",
       "      <td>0</td>\n",
       "      <td>10000</td>\n",
       "      <td>01-11-2012 0.00</td>\n",
       "      <td>Q4 2012</td>\n",
       "      <td>321.45</td>\n",
       "      <td>1052.11</td>\n",
       "      <td>158</td>\n",
       "    </tr>\n",
       "    <tr>\n",
       "      <th>4</th>\n",
       "      <td>2013-09-14 18:38:39.097000000</td>\n",
       "      <td>36</td>\n",
       "      <td>Current</td>\n",
       "      <td>NaN</td>\n",
       "      <td>0.24614</td>\n",
       "      <td>0.2085</td>\n",
       "      <td>0.1985</td>\n",
       "      <td>D</td>\n",
       "      <td>4.0</td>\n",
       "      <td>2</td>\n",
       "      <td>...</td>\n",
       "      <td>Employed</td>\n",
       "      <td>0.0</td>\n",
       "      <td>9583.333333</td>\n",
       "      <td>0</td>\n",
       "      <td>15000</td>\n",
       "      <td>20-09-2013 0.00</td>\n",
       "      <td>Q3 2013</td>\n",
       "      <td>563.97</td>\n",
       "      <td>1256.63</td>\n",
       "      <td>20</td>\n",
       "    </tr>\n",
       "  </tbody>\n",
       "</table>\n",
       "<p>5 rows × 22 columns</p>\n",
       "</div>"
      ],
      "text/plain": [
       "             ListingCreationDate  Term LoanStatus       ClosedDate  \\\n",
       "0  2007-08-26 19:09:29.263000000    36  Completed  14-08-2009 0.00   \n",
       "1  2014-02-27 08:28:07.900000000    36    Current              NaN   \n",
       "2  2007-01-05 15:00:47.090000000    36  Completed  17-12-2009 0.00   \n",
       "3  2012-10-22 11:02:35.010000000    36    Current              NaN   \n",
       "4  2013-09-14 18:38:39.097000000    36    Current              NaN   \n",
       "\n",
       "   BorrowerAPR  BorrowerRate  LenderYield ProsperRating (Alpha)  ProsperScore  \\\n",
       "0      0.16516        0.1580       0.1380                   NaN           NaN   \n",
       "1      0.12016        0.0920       0.0820                     A           7.0   \n",
       "2      0.28269        0.2750       0.2400                   NaN           NaN   \n",
       "3      0.12528        0.0974       0.0874                     A           9.0   \n",
       "4      0.24614        0.2085       0.1985                     D           4.0   \n",
       "\n",
       "   ListingCategory (numeric)  ... EmploymentStatus AmountDelinquent  \\\n",
       "0                          0  ...    Self-employed            472.0   \n",
       "1                          2  ...         Employed              0.0   \n",
       "2                          0  ...    Not available              NaN   \n",
       "3                         16  ...         Employed          10056.0   \n",
       "4                          2  ...         Employed              0.0   \n",
       "\n",
       "  StatedMonthlyIncome  LoanCurrentDaysDelinquent  LoanOriginalAmount  \\\n",
       "0         3083.333333                          0                9425   \n",
       "1         6125.000000                          0               10000   \n",
       "2         2083.333333                          0                3001   \n",
       "3         2875.000000                          0               10000   \n",
       "4         9583.333333                          0               15000   \n",
       "\n",
       "   LoanOriginationDate  LoanOriginationQuarter MonthlyLoanPayment  \\\n",
       "0      12-09-2007 0.00                 Q3 2007             330.43   \n",
       "1      03-03-2014 0.00                 Q1 2014             318.93   \n",
       "2      17-01-2007 0.00                 Q1 2007             123.32   \n",
       "3      01-11-2012 0.00                 Q4 2012             321.45   \n",
       "4      20-09-2013 0.00                 Q3 2013             563.97   \n",
       "\n",
       "  LP_InterestandFees  Investors  \n",
       "0            1971.14        258  \n",
       "1               0.00          1  \n",
       "2            1185.63         41  \n",
       "3            1052.11        158  \n",
       "4            1256.63         20  \n",
       "\n",
       "[5 rows x 22 columns]"
      ]
     },
     "execution_count": 14,
     "metadata": {},
     "output_type": "execute_result"
    }
   ],
   "source": [
    "df.head()"
   ]
  },
  {
   "cell_type": "markdown",
   "metadata": {},
   "source": [
    ">#### B.  Check the data type and adjust datatype for all other categorical columns."
   ]
  },
  {
   "cell_type": "code",
   "execution_count": 15,
   "metadata": {},
   "outputs": [
    {
     "data": {
      "text/plain": [
       "ListingCreationDate           object\n",
       "Term                           int64\n",
       "LoanStatus                    object\n",
       "ClosedDate                    object\n",
       "BorrowerAPR                  float64\n",
       "BorrowerRate                 float64\n",
       "LenderYield                  float64\n",
       "ProsperRating (Alpha)         object\n",
       "ProsperScore                 float64\n",
       "ListingCategory (numeric)      int64\n",
       "BorrowerState                 object\n",
       "Occupation                    object\n",
       "EmploymentStatus              object\n",
       "AmountDelinquent             float64\n",
       "StatedMonthlyIncome          float64\n",
       "LoanCurrentDaysDelinquent      int64\n",
       "LoanOriginalAmount             int64\n",
       "LoanOriginationDate           object\n",
       "LoanOriginationQuarter        object\n",
       "MonthlyLoanPayment           float64\n",
       "LP_InterestandFees           float64\n",
       "Investors                      int64\n",
       "dtype: object"
      ]
     },
     "execution_count": 15,
     "metadata": {},
     "output_type": "execute_result"
    }
   ],
   "source": [
    "df.dtypes     #Checking Data type of each column"
   ]
  },
  {
   "cell_type": "markdown",
   "metadata": {},
   "source": [
    "<h4 class=\"list-group-item list-group-item-action active\" >3. UNIVARIATE ANALYSIS</h4>\n",
    "\n",
    ">#### A. What are the main features of interest in your dataset?\n",
    "\n",
    "    Step1: Apply Univariate analysis using suitable charts for[ Loan status, Employment Status, Stated Monthly Income]\n",
    "\n",
    "    Step2: Check if any column distribution skew or not.\n",
    "\n",
    "    Step3: Write at least 2 observations for each visualization.\n",
    "\n",
    "\n"
   ]
  },
  {
   "cell_type": "markdown",
   "metadata": {},
   "source": [
    "# Step1: Apply Univariate analysis using suitable charts for[ Loan status, Employment Status, Stated Monthly Income]\n"
   ]
  },
  {
   "cell_type": "code",
   "execution_count": 16,
   "metadata": {},
   "outputs": [
    {
     "data": {
      "text/plain": [
       "<AxesSubplot:xlabel='EmploymentStatus'>"
      ]
     },
     "execution_count": 16,
     "metadata": {},
     "output_type": "execute_result"
    },
    {
     "data": {
      "image/png": "[encoded data removed]",
      "text/plain": [
       "<Figure size 1296x360 with 1 Axes>"
      ]
     },
     "metadata": {
      "needs_background": "light"
     },
     "output_type": "display_data"
    }
   ],
   "source": [
    "# Loan Status\n",
    "\n",
    "plt.figure(figsize =(18,5))\n",
    "df.groupby('EmploymentStatus')['EmploymentStatus'].count().plot(kind = 'bar')"
   ]
  },
  {
   "cell_type": "code",
   "execution_count": 17,
   "metadata": {},
   "outputs": [
    {
     "data": {
      "text/plain": [
       "<AxesSubplot:xlabel='LoanStatus'>"
      ]
     },
     "execution_count": 17,
     "metadata": {},
     "output_type": "execute_result"
    },
    {
     "data": {
      "image/png": "[encoded data removed]",
      "text/plain": [
       "<Figure size 1296x360 with 1 Axes>"
      ]
     },
     "metadata": {
      "needs_background": "light"
     },
     "output_type": "display_data"
    }
   ],
   "source": [
    "# employment Status\n",
    "plt.figure(figsize =(18,5))\n",
    "df.groupby('LoanStatus')['LoanStatus'].count().plot(kind = 'bar')"
   ]
  },
  {
   "cell_type": "code",
   "execution_count": 18,
   "metadata": {},
   "outputs": [
    {
     "data": {
      "text/plain": [
       "<AxesSubplot:xlabel='StatedMonthlyIncome'>"
      ]
     },
     "execution_count": 18,
     "metadata": {},
     "output_type": "execute_result"
    },
    {
     "data": {
      "image/png": "[encoded data removed]",
      "text/plain": [
       "<Figure size 432x288 with 1 Axes>"
      ]
     },
     "metadata": {
      "needs_background": "light"
     },
     "output_type": "display_data"
    }
   ],
   "source": [
    "# Stated Monthly Income\n",
    "sns.boxplot(df['StatedMonthlyIncome'])"
   ]
  },
  {
   "cell_type": "code",
   "execution_count": 19,
   "metadata": {},
   "outputs": [
    {
     "data": {
      "text/plain": [
       "5619.000080492749"
      ]
     },
     "execution_count": 19,
     "metadata": {},
     "output_type": "execute_result"
    }
   ],
   "source": [
    "df['StatedMonthlyIncome'].mean()"
   ]
  },
  {
   "cell_type": "code",
   "execution_count": 20,
   "metadata": {},
   "outputs": [
    {
     "data": {
      "text/plain": [
       "4734.333333"
      ]
     },
     "execution_count": 20,
     "metadata": {},
     "output_type": "execute_result"
    }
   ],
   "source": [
    "df['StatedMonthlyIncome'].median()"
   ]
  },
  {
   "cell_type": "markdown",
   "metadata": {},
   "source": [
    " # Step2: Check if any column distribution skew or not."
   ]
  },
  {
   "cell_type": "code",
   "execution_count": 21,
   "metadata": {},
   "outputs": [
    {
     "data": {
      "text/plain": [
       "Term                          1.044179\n",
       "BorrowerAPR                   0.267334\n",
       "BorrowerRate                  0.314124\n",
       "LenderYield                   0.331794\n",
       "ProsperScore                  0.149154\n",
       "ListingCategory (numeric)     2.277709\n",
       "AmountDelinquent             15.554333\n",
       "StatedMonthlyIncome           3.225084\n",
       "LoanCurrentDaysDelinquent     3.694044\n",
       "LoanOriginalAmount            1.180358\n",
       "MonthlyLoanPayment            1.247707\n",
       "LP_InterestandFees            2.345340\n",
       "Investors                     2.303866\n",
       "dtype: float64"
      ]
     },
     "execution_count": 21,
     "metadata": {},
     "output_type": "execute_result"
    }
   ],
   "source": [
    "df.skew()"
   ]
  },
  {
   "cell_type": "markdown",
   "metadata": {},
   "source": [
    "Conclusion:\n",
    "\n",
    "Loan Status:\n",
    "\n",
    "1) From Loan univariance analysis we observe that 332 Lona are completed.\n",
    "2) 12 are past due whose aging between 1-90 days.\n",
    "\n",
    "Employeed Status:\n",
    "\n",
    "1) Out of 1010 applicant 216 employee are full time.\n",
    "2) Out of 1010 applicant 8 are those who are retired.\n",
    "\n",
    "Stated Monthly Income\n",
    "\n",
    "1) The value outside the 10000 are consider as outliers\n",
    "2) We will take median to findout the centre value becuase of outliers.\n",
    "3) Median is around 4500.\n",
    "\n",
    "Step 2: Observations:\n",
    "1) All columns have skweness.\n",
    "2) BorrowerAPR,BorrowerRate,LenderYield and ProsperScore are less skwed.\n",
    "3) AmountDelinquent is highly skwed"
   ]
  },
  {
   "cell_type": "markdown",
   "metadata": {},
   "source": [
    "<h4 class=\"list-group-item list-group-item-action active\" >4. BIVARIATE ANALYSIS</h4>\n",
    "\n",
    ">#### A. Check the correlation matrix for all numeric variables. Maintain the Strong positive and Negative correlations columns.\n",
    ">#### B. Check the relation between `LoanOriginalAmount` and `BorrowerAPR` columns. \n",
    "\n",
    "    Step1: Use subplots. \n",
    "    \n",
    "        Plot1: Scatter Plot of LoanOriginalAmount and BorrowerAPR columns    \n",
    "\n",
    "        Plot2: HeatMap of LoanOriginalAmount and BorrowerAPR\n",
    "        \n",
    "    Step2: Write your observations.         \n",
    "        \n",
    ">#### C.Display the seperate box plot for `y = BorrowerAPR`  with x1 = `LoanStatus`, x2 = `EmploymentStatus` columns.Write your observations. \n"
   ]
  },
  {
   "cell_type": "markdown",
   "metadata": {},
   "source": [
    "# A. Check the correlation matrix for all numeric variables. Maintain the Strong positive and Negative correlations columns"
   ]
  },
  {
   "cell_type": "code",
   "execution_count": 22,
   "metadata": {},
   "outputs": [
    {
     "data": {
      "text/html": [
       "<div>\n",
       "<style scoped>\n",
       "    .dataframe tbody tr th:only-of-type {\n",
       "        vertical-align: middle;\n",
       "    }\n",
       "\n",
       "    .dataframe tbody tr th {\n",
       "        vertical-align: top;\n",
       "    }\n",
       "\n",
       "    .dataframe thead th {\n",
       "        text-align: right;\n",
       "    }\n",
       "</style>\n",
       "<table border=\"1\" class=\"dataframe\">\n",
       "  <thead>\n",
       "    <tr style=\"text-align: right;\">\n",
       "      <th></th>\n",
       "      <th>Term</th>\n",
       "      <th>BorrowerAPR</th>\n",
       "      <th>BorrowerRate</th>\n",
       "      <th>LenderYield</th>\n",
       "      <th>ProsperScore</th>\n",
       "      <th>ListingCategory (numeric)</th>\n",
       "      <th>AmountDelinquent</th>\n",
       "      <th>StatedMonthlyIncome</th>\n",
       "      <th>LoanCurrentDaysDelinquent</th>\n",
       "      <th>LoanOriginalAmount</th>\n",
       "      <th>MonthlyLoanPayment</th>\n",
       "      <th>LP_InterestandFees</th>\n",
       "      <th>Investors</th>\n",
       "    </tr>\n",
       "  </thead>\n",
       "  <tbody>\n",
       "    <tr>\n",
       "      <th>Term</th>\n",
       "      <td>1.000000</td>\n",
       "      <td>-0.044058</td>\n",
       "      <td>-0.014094</td>\n",
       "      <td>-0.013188</td>\n",
       "      <td>0.090518</td>\n",
       "      <td>-0.036781</td>\n",
       "      <td>-0.058617</td>\n",
       "      <td>0.105244</td>\n",
       "      <td>-0.126056</td>\n",
       "      <td>0.355824</td>\n",
       "      <td>0.104524</td>\n",
       "      <td>0.108435</td>\n",
       "      <td>-0.074994</td>\n",
       "    </tr>\n",
       "    <tr>\n",
       "      <th>BorrowerAPR</th>\n",
       "      <td>-0.044058</td>\n",
       "      <td>1.000000</td>\n",
       "      <td>0.989962</td>\n",
       "      <td>0.989498</td>\n",
       "      <td>-0.640320</td>\n",
       "      <td>0.173637</td>\n",
       "      <td>0.029008</td>\n",
       "      <td>-0.199210</td>\n",
       "      <td>0.108360</td>\n",
       "      <td>-0.305032</td>\n",
       "      <td>-0.202339</td>\n",
       "      <td>0.176953</td>\n",
       "      <td>-0.282639</td>\n",
       "    </tr>\n",
       "    <tr>\n",
       "      <th>BorrowerRate</th>\n",
       "      <td>-0.014094</td>\n",
       "      <td>0.989962</td>\n",
       "      <td>1.000000</td>\n",
       "      <td>0.998986</td>\n",
       "      <td>-0.619934</td>\n",
       "      <td>0.139176</td>\n",
       "      <td>0.019442</td>\n",
       "      <td>-0.214624</td>\n",
       "      <td>0.155858</td>\n",
       "      <td>-0.312473</td>\n",
       "      <td>-0.220645</td>\n",
       "      <td>0.210123</td>\n",
       "      <td>-0.251938</td>\n",
       "    </tr>\n",
       "    <tr>\n",
       "      <th>LenderYield</th>\n",
       "      <td>-0.013188</td>\n",
       "      <td>0.989498</td>\n",
       "      <td>0.998986</td>\n",
       "      <td>1.000000</td>\n",
       "      <td>-0.619934</td>\n",
       "      <td>0.141883</td>\n",
       "      <td>0.019392</td>\n",
       "      <td>-0.211835</td>\n",
       "      <td>0.152973</td>\n",
       "      <td>-0.311028</td>\n",
       "      <td>-0.219325</td>\n",
       "      <td>0.210511</td>\n",
       "      <td>-0.251405</td>\n",
       "    </tr>\n",
       "    <tr>\n",
       "      <th>ProsperScore</th>\n",
       "      <td>0.090518</td>\n",
       "      <td>-0.640320</td>\n",
       "      <td>-0.619934</td>\n",
       "      <td>-0.619934</td>\n",
       "      <td>1.000000</td>\n",
       "      <td>-0.041906</td>\n",
       "      <td>-0.062707</td>\n",
       "      <td>0.199536</td>\n",
       "      <td>-0.072170</td>\n",
       "      <td>0.245904</td>\n",
       "      <td>0.144268</td>\n",
       "      <td>0.016248</td>\n",
       "      <td>0.311131</td>\n",
       "    </tr>\n",
       "    <tr>\n",
       "      <th>ListingCategory (numeric)</th>\n",
       "      <td>-0.036781</td>\n",
       "      <td>0.173637</td>\n",
       "      <td>0.139176</td>\n",
       "      <td>0.141883</td>\n",
       "      <td>-0.041906</td>\n",
       "      <td>1.000000</td>\n",
       "      <td>0.082391</td>\n",
       "      <td>-0.028607</td>\n",
       "      <td>-0.100537</td>\n",
       "      <td>-0.149829</td>\n",
       "      <td>-0.132172</td>\n",
       "      <td>-0.011305</td>\n",
       "      <td>-0.067928</td>\n",
       "    </tr>\n",
       "    <tr>\n",
       "      <th>AmountDelinquent</th>\n",
       "      <td>-0.058617</td>\n",
       "      <td>0.029008</td>\n",
       "      <td>0.019442</td>\n",
       "      <td>0.019392</td>\n",
       "      <td>-0.062707</td>\n",
       "      <td>0.082391</td>\n",
       "      <td>1.000000</td>\n",
       "      <td>-0.013594</td>\n",
       "      <td>0.010723</td>\n",
       "      <td>-0.068893</td>\n",
       "      <td>-0.059737</td>\n",
       "      <td>-0.059239</td>\n",
       "      <td>-0.055755</td>\n",
       "    </tr>\n",
       "    <tr>\n",
       "      <th>StatedMonthlyIncome</th>\n",
       "      <td>0.105244</td>\n",
       "      <td>-0.199210</td>\n",
       "      <td>-0.214624</td>\n",
       "      <td>-0.211835</td>\n",
       "      <td>0.199536</td>\n",
       "      <td>-0.028607</td>\n",
       "      <td>-0.013594</td>\n",
       "      <td>1.000000</td>\n",
       "      <td>-0.057888</td>\n",
       "      <td>0.432787</td>\n",
       "      <td>0.405985</td>\n",
       "      <td>0.119956</td>\n",
       "      <td>0.113668</td>\n",
       "    </tr>\n",
       "    <tr>\n",
       "      <th>LoanCurrentDaysDelinquent</th>\n",
       "      <td>-0.126056</td>\n",
       "      <td>0.108360</td>\n",
       "      <td>0.155858</td>\n",
       "      <td>0.152973</td>\n",
       "      <td>-0.072170</td>\n",
       "      <td>-0.100537</td>\n",
       "      <td>0.010723</td>\n",
       "      <td>-0.057888</td>\n",
       "      <td>1.000000</td>\n",
       "      <td>-0.065866</td>\n",
       "      <td>-0.020760</td>\n",
       "      <td>0.080106</td>\n",
       "      <td>0.092322</td>\n",
       "    </tr>\n",
       "    <tr>\n",
       "      <th>LoanOriginalAmount</th>\n",
       "      <td>0.355824</td>\n",
       "      <td>-0.305032</td>\n",
       "      <td>-0.312473</td>\n",
       "      <td>-0.311028</td>\n",
       "      <td>0.245904</td>\n",
       "      <td>-0.149829</td>\n",
       "      <td>-0.068893</td>\n",
       "      <td>0.432787</td>\n",
       "      <td>-0.065866</td>\n",
       "      <td>1.000000</td>\n",
       "      <td>0.938081</td>\n",
       "      <td>0.376891</td>\n",
       "      <td>0.367847</td>\n",
       "    </tr>\n",
       "    <tr>\n",
       "      <th>MonthlyLoanPayment</th>\n",
       "      <td>0.104524</td>\n",
       "      <td>-0.202339</td>\n",
       "      <td>-0.220645</td>\n",
       "      <td>-0.219325</td>\n",
       "      <td>0.144268</td>\n",
       "      <td>-0.132172</td>\n",
       "      <td>-0.059737</td>\n",
       "      <td>0.405985</td>\n",
       "      <td>-0.020760</td>\n",
       "      <td>0.938081</td>\n",
       "      <td>1.000000</td>\n",
       "      <td>0.424808</td>\n",
       "      <td>0.378563</td>\n",
       "    </tr>\n",
       "    <tr>\n",
       "      <th>LP_InterestandFees</th>\n",
       "      <td>0.108435</td>\n",
       "      <td>0.176953</td>\n",
       "      <td>0.210123</td>\n",
       "      <td>0.210511</td>\n",
       "      <td>0.016248</td>\n",
       "      <td>-0.011305</td>\n",
       "      <td>-0.059239</td>\n",
       "      <td>0.119956</td>\n",
       "      <td>0.080106</td>\n",
       "      <td>0.376891</td>\n",
       "      <td>0.424808</td>\n",
       "      <td>1.000000</td>\n",
       "      <td>0.421257</td>\n",
       "    </tr>\n",
       "    <tr>\n",
       "      <th>Investors</th>\n",
       "      <td>-0.074994</td>\n",
       "      <td>-0.282639</td>\n",
       "      <td>-0.251938</td>\n",
       "      <td>-0.251405</td>\n",
       "      <td>0.311131</td>\n",
       "      <td>-0.067928</td>\n",
       "      <td>-0.055755</td>\n",
       "      <td>0.113668</td>\n",
       "      <td>0.092322</td>\n",
       "      <td>0.367847</td>\n",
       "      <td>0.378563</td>\n",
       "      <td>0.421257</td>\n",
       "      <td>1.000000</td>\n",
       "    </tr>\n",
       "  </tbody>\n",
       "</table>\n",
       "</div>"
      ],
      "text/plain": [
       "                               Term  BorrowerAPR  BorrowerRate  LenderYield  \\\n",
       "Term                       1.000000    -0.044058     -0.014094    -0.013188   \n",
       "BorrowerAPR               -0.044058     1.000000      0.989962     0.989498   \n",
       "BorrowerRate              -0.014094     0.989962      1.000000     0.998986   \n",
       "LenderYield               -0.013188     0.989498      0.998986     1.000000   \n",
       "ProsperScore               0.090518    -0.640320     -0.619934    -0.619934   \n",
       "ListingCategory (numeric) -0.036781     0.173637      0.139176     0.141883   \n",
       "AmountDelinquent          -0.058617     0.029008      0.019442     0.019392   \n",
       "StatedMonthlyIncome        0.105244    -0.199210     -0.214624    -0.211835   \n",
       "LoanCurrentDaysDelinquent -0.126056     0.108360      0.155858     0.152973   \n",
       "LoanOriginalAmount         0.355824    -0.305032     -0.312473    -0.311028   \n",
       "MonthlyLoanPayment         0.104524    -0.202339     -0.220645    -0.219325   \n",
       "LP_InterestandFees         0.108435     0.176953      0.210123     0.210511   \n",
       "Investors                 -0.074994    -0.282639     -0.251938    -0.251405   \n",
       "\n",
       "                           ProsperScore  ListingCategory (numeric)  \\\n",
       "Term                           0.090518                  -0.036781   \n",
       "BorrowerAPR                   -0.640320                   0.173637   \n",
       "BorrowerRate                  -0.619934                   0.139176   \n",
       "LenderYield                   -0.619934                   0.141883   \n",
       "ProsperScore                   1.000000                  -0.041906   \n",
       "ListingCategory (numeric)     -0.041906                   1.000000   \n",
       "AmountDelinquent              -0.062707                   0.082391   \n",
       "StatedMonthlyIncome            0.199536                  -0.028607   \n",
       "LoanCurrentDaysDelinquent     -0.072170                  -0.100537   \n",
       "LoanOriginalAmount             0.245904                  -0.149829   \n",
       "MonthlyLoanPayment             0.144268                  -0.132172   \n",
       "LP_InterestandFees             0.016248                  -0.011305   \n",
       "Investors                      0.311131                  -0.067928   \n",
       "\n",
       "                           AmountDelinquent  StatedMonthlyIncome  \\\n",
       "Term                              -0.058617             0.105244   \n",
       "BorrowerAPR                        0.029008            -0.199210   \n",
       "BorrowerRate                       0.019442            -0.214624   \n",
       "LenderYield                        0.019392            -0.211835   \n",
       "ProsperScore                      -0.062707             0.199536   \n",
       "ListingCategory (numeric)          0.082391            -0.028607   \n",
       "AmountDelinquent                   1.000000            -0.013594   \n",
       "StatedMonthlyIncome               -0.013594             1.000000   \n",
       "LoanCurrentDaysDelinquent          0.010723            -0.057888   \n",
       "LoanOriginalAmount                -0.068893             0.432787   \n",
       "MonthlyLoanPayment                -0.059737             0.405985   \n",
       "LP_InterestandFees                -0.059239             0.119956   \n",
       "Investors                         -0.055755             0.113668   \n",
       "\n",
       "                           LoanCurrentDaysDelinquent  LoanOriginalAmount  \\\n",
       "Term                                       -0.126056            0.355824   \n",
       "BorrowerAPR                                 0.108360           -0.305032   \n",
       "BorrowerRate                                0.155858           -0.312473   \n",
       "LenderYield                                 0.152973           -0.311028   \n",
       "ProsperScore                               -0.072170            0.245904   \n",
       "ListingCategory (numeric)                  -0.100537           -0.149829   \n",
       "AmountDelinquent                            0.010723           -0.068893   \n",
       "StatedMonthlyIncome                        -0.057888            0.432787   \n",
       "LoanCurrentDaysDelinquent                   1.000000           -0.065866   \n",
       "LoanOriginalAmount                         -0.065866            1.000000   \n",
       "MonthlyLoanPayment                         -0.020760            0.938081   \n",
       "LP_InterestandFees                          0.080106            0.376891   \n",
       "Investors                                   0.092322            0.367847   \n",
       "\n",
       "                           MonthlyLoanPayment  LP_InterestandFees  Investors  \n",
       "Term                                 0.104524            0.108435  -0.074994  \n",
       "BorrowerAPR                         -0.202339            0.176953  -0.282639  \n",
       "BorrowerRate                        -0.220645            0.210123  -0.251938  \n",
       "LenderYield                         -0.219325            0.210511  -0.251405  \n",
       "ProsperScore                         0.144268            0.016248   0.311131  \n",
       "ListingCategory (numeric)           -0.132172           -0.011305  -0.067928  \n",
       "AmountDelinquent                    -0.059737           -0.059239  -0.055755  \n",
       "StatedMonthlyIncome                  0.405985            0.119956   0.113668  \n",
       "LoanCurrentDaysDelinquent           -0.020760            0.080106   0.092322  \n",
       "LoanOriginalAmount                   0.938081            0.376891   0.367847  \n",
       "MonthlyLoanPayment                   1.000000            0.424808   0.378563  \n",
       "LP_InterestandFees                   0.424808            1.000000   0.421257  \n",
       "Investors                            0.378563            0.421257   1.000000  "
      ]
     },
     "execution_count": 22,
     "metadata": {},
     "output_type": "execute_result"
    }
   ],
   "source": [
    "df.corr()   #-- Correlation Matrix"
   ]
  },
  {
   "cell_type": "code",
   "execution_count": 23,
   "metadata": {},
   "outputs": [
    {
     "data": {
      "text/plain": [
       "<AxesSubplot:>"
      ]
     },
     "execution_count": 23,
     "metadata": {},
     "output_type": "execute_result"
    },
    {
     "data": {
      "image/png": "[encoded data removed]",
      "text/plain": [
       "<Figure size 1296x360 with 2 Axes>"
      ]
     },
     "metadata": {
      "needs_background": "light"
     },
     "output_type": "display_data"
    }
   ],
   "source": [
    "plt.figure(figsize =(18,5))\n",
    "\n",
    "sns.heatmap(df.corr(),annot = True,cmap=\"YlGnBu\")"
   ]
  },
  {
   "cell_type": "markdown",
   "metadata": {},
   "source": [
    "Conclusion:\n",
    "From above graph +ve value shows the stronger relationship between the variables and -ve value shows weaker relationship between the variables"
   ]
  },
  {
   "cell_type": "markdown",
   "metadata": {},
   "source": [
    "# B. Check the relation between LoanOriginalAmount and BorrowerAPR columns."
   ]
  },
  {
   "cell_type": "code",
   "execution_count": 24,
   "metadata": {},
   "outputs": [],
   "source": [
    "# Plot1: Scatter Plot of LoanOriginalAmount and BorrowerAPR columns "
   ]
  },
  {
   "cell_type": "code",
   "execution_count": 25,
   "metadata": {},
   "outputs": [
    {
     "data": {
      "text/plain": [
       "<AxesSubplot:xlabel='LoanOriginalAmount', ylabel='BorrowerAPR'>"
      ]
     },
     "execution_count": 25,
     "metadata": {},
     "output_type": "execute_result"
    },
    {
     "data": {
      "image/png": "[encoded data removed]",
      "text/plain": [
       "<Figure size 1296x360 with 1 Axes>"
      ]
     },
     "metadata": {
      "needs_background": "light"
     },
     "output_type": "display_data"
    }
   ],
   "source": [
    "plt.figure(figsize =(18,5))\n",
    "sns.scatterplot(x = df['LoanOriginalAmount'],y = df['BorrowerAPR'],data = df)"
   ]
  },
  {
   "cell_type": "markdown",
   "metadata": {},
   "source": [
    "Observation:\n",
    " \n",
    "We can observe that that the correlation value for LoanOriginalAmount and BorrowerARP will liwe between -1 to 0. So we can say that there is -ve relationship between the both variable."
   ]
  },
  {
   "cell_type": "code",
   "execution_count": 26,
   "metadata": {},
   "outputs": [],
   "source": [
    " # Plot2: HeatMap of LoanOriginalAmount and BorrowerAPR"
   ]
  },
  {
   "cell_type": "code",
   "execution_count": 27,
   "metadata": {},
   "outputs": [
    {
     "data": {
      "text/plain": [
       "<AxesSubplot:>"
      ]
     },
     "execution_count": 27,
     "metadata": {},
     "output_type": "execute_result"
    },
    {
     "data": {
      "image/png": "[encoded data removed]",
      "text/plain": [
       "<Figure size 432x288 with 2 Axes>"
      ]
     },
     "metadata": {
      "needs_background": "light"
     },
     "output_type": "display_data"
    }
   ],
   "source": [
    "sns.heatmap(df[['LoanOriginalAmount','BorrowerAPR']].corr(),annot=True)"
   ]
  },
  {
   "cell_type": "markdown",
   "metadata": {},
   "source": [
    "Observation:\n",
    " \n",
    "From above graph we have observed that there is negative relationship between LoanOriginalAmount and BorrowerAPR."
   ]
  },
  {
   "cell_type": "markdown",
   "metadata": {},
   "source": [
    "# C.Display the seperate box plot for y = BorrowerAPR with x1 = LoanStatus, x2 = EmploymentStatus columns.Write your observations."
   ]
  },
  {
   "cell_type": "code",
   "execution_count": 28,
   "metadata": {},
   "outputs": [
    {
     "data": {
      "text/plain": [
       "<AxesSubplot:xlabel='LoanStatus', ylabel='BorrowerAPR'>"
      ]
     },
     "execution_count": 28,
     "metadata": {},
     "output_type": "execute_result"
    },
    {
     "data": {
      "image/png": "[encoded data removed]",
      "text/plain": [
       "<Figure size 1296x360 with 1 Axes>"
      ]
     },
     "metadata": {
      "needs_background": "light"
     },
     "output_type": "display_data"
    }
   ],
   "source": [
    "plt.figure(figsize =(18,5))\n",
    "\n",
    "sns.boxplot(y =df['BorrowerAPR'], x = df['LoanStatus'],data = df)"
   ]
  },
  {
   "cell_type": "markdown",
   "metadata": {},
   "source": [
    "For Loan Status\n",
    "Past Due(16-30 days) -  nearly 50 percent of those who are defaulted have higher Borrower APR n(which is not good,APR should be less than 14 percent) in this case it is from 34% to 36%\n",
    "Cancelled - "
   ]
  },
  {
   "cell_type": "code",
   "execution_count": 29,
   "metadata": {},
   "outputs": [
    {
     "data": {
      "text/plain": [
       "<AxesSubplot:xlabel='EmploymentStatus', ylabel='BorrowerAPR'>"
      ]
     },
     "execution_count": 29,
     "metadata": {},
     "output_type": "execute_result"
    },
    {
     "data": {
      "image/png": "[encoded data removed]",
      "text/plain": [
       "<Figure size 1296x360 with 1 Axes>"
      ]
     },
     "metadata": {
      "needs_background": "light"
     },
     "output_type": "display_data"
    }
   ],
   "source": [
    "plt.figure(figsize =(18,5))\n",
    "\n",
    "sns.boxplot(y =df['BorrowerAPR'], x = df['EmploymentStatus'],data = df)"
   ]
  },
  {
   "cell_type": "markdown",
   "metadata": {},
   "source": [
    "<h4 class=\"list-group-item list-group-item-action active\" >5.  MULTI VARIATE ANALYSIS, FEATURE ENGINEERING</h4>\n",
    "\n",
    ">#### A. Write a program\n",
    "\n",
    "    Step 1: Create a  condition = 'LoanStatus'== 'Completed'| 'LoanStatus' == 'Defaulted' |\\'LoanStatus' == 'Chargedoff'\n",
    "\n",
    "    Step2: Create a user define function  using condition and `LoanStatus` column.\n",
    "\n",
    "    Hint: df['LoanStatus'] = df.apply(user define function , axis=1)\n",
    "    \n",
    "        Sample output : \n",
    "        \n",
    "        \n",
    "        Completed    168\n",
    "        \n",
    "        Defaulted     59\n",
    "\n",
    "\n",
    ">#### B. Write a program\n",
    "\n",
    "    Step 1: Create a  dictionary called categories = 1: 'Debt Consolidation', 2: 'Home Improvement', 3: 'Business', 6: 'Auto', 7: 'Other'\n",
    "\n",
    "    Step2: Create a user define function  using categories and `ListingCategory (numeric)` column.\n",
    "\n",
    "    Hint: df['ListingCategory (numeric)'] = df.apply(user define function , axis=1)\n",
    "    \n",
    "        Sample output : \n",
    "        \n",
    "        \n",
    "        Debt Consolidation    106\n",
    "\n",
    "        Other                  65\n",
    "\n",
    "        Business               25\n",
    "\n",
    "        Home Improvement       22\n",
    "\n",
    "        Auto                    9\n",
    "\n",
    ">#### C. Display the box plot for `ProsperRating (Alpha)` vs `LoanOriginalAmount` and hue = `Loan Status`[Completed,Defaulted]. Write your observations.\n",
    "\n",
    ">#### D. Display the catplot for `ProsperRating (Alpha)` vs `ListingCategory (numeric)`[Debt Consolidation,Other,Business,Home Improvement,Auto] and hue = `Loan Status`[Completed,Defaulted]. Write your observations."
   ]
  },
  {
   "cell_type": "markdown",
   "metadata": {},
   "source": [
    "# A. Write a program"
   ]
  },
  {
   "cell_type": "markdown",
   "metadata": {},
   "source": [
    "#Step 1: Create a  condition = 'LoanStatus'== 'Completed'| 'LoanStatus' == 'Defaulted' |\\'LoanStatus' == 'Chargedoff'"
   ]
  },
  {
   "cell_type": "markdown",
   "metadata": {},
   "source": [
    "Step2: Create a user define function  using condition and `LoanStatus` column."
   ]
  },
  {
   "cell_type": "code",
   "execution_count": 30,
   "metadata": {},
   "outputs": [
    {
     "name": "stdout",
     "output_type": "stream",
     "text": [
      "Completed 168\n",
      "\n",
      "Defaulted 59\n",
      "\n"
     ]
    }
   ],
   "source": [
    "def LS(x):\n",
    "    if np.nan not in list(x):\n",
    "        if list(x)[2]=='Chargedoff':\n",
    "            return 'Defaulted'\n",
    "        else:\n",
    "            return list(x)[2]\n",
    "y = df.apply(LS,axis = 1)\n",
    "\n",
    "z = y.value_counts()\n",
    "\n",
    "for i in range(len(z)):\n",
    "    print(z.index[i],z[i],sep = ' ',end ='\\n\\n')"
   ]
  },
  {
   "cell_type": "markdown",
   "metadata": {},
   "source": [
    "# B. Write a program"
   ]
  },
  {
   "cell_type": "markdown",
   "metadata": {},
   "source": [
    "Step 1: Create a  dictionary called categories = 1: 'Debt Consolidation', 2: 'Home Improvement', 3: 'Business', 6: 'Auto', 7: 'Other'"
   ]
  },
  {
   "cell_type": "markdown",
   "metadata": {},
   "source": [
    "  Step2: Create a user define function  using categories and `ListingCategory (numeric)` column.\n",
    "\n",
    "    Hint: df['ListingCategory (numeric)'] = df.apply(user define function , axis=1)\n",
    "    \n",
    "        Sample output : \n",
    "        \n",
    "        \n",
    "        Debt Consolidation    106\n",
    "\n",
    "        Other                  65\n",
    "\n",
    "        Business               25\n",
    "\n",
    "        Home Improvement       22\n",
    "\n",
    "        Auto                    9"
   ]
  },
  {
   "cell_type": "code",
   "execution_count": 31,
   "metadata": {},
   "outputs": [
    {
     "name": "stdout",
     "output_type": "stream",
     "text": [
      "Debt Consolidation106\n",
      "\n",
      "Other65\n",
      "\n",
      "Business25\n",
      "\n",
      "Home Improvement22\n",
      "\n",
      "Auto9\n",
      "\n"
     ]
    }
   ],
   "source": [
    "def ListingCategory(x):\n",
    "    categories={1: 'Debt Consolidation', 2: 'Home Improvement', 3: 'Business', 6: 'Auto', 7: 'Other'}\n",
    "    if np.nan not in list(x):\n",
    "        if list(x)[9] not in categories.keys():\n",
    "            return categories[7]\n",
    "        else:\n",
    "            return categories[x[9]]\n",
    "df['ListingCategory (numeric)']=df.apply(ListingCategory,axis=1)        \n",
    "z=df['ListingCategory (numeric)'].value_counts()\n",
    "\n",
    "for i in range(len(z)):\n",
    "    print(z.index[i],z[i],sep=''*((len(z.index[0])-len(z.index[i]))+1),end='\\n\\n')\n"
   ]
  },
  {
   "cell_type": "markdown",
   "metadata": {},
   "source": [
    "# C. Display the box plot for ProsperRating (Alpha) vs LoanOriginalAmount and hue = Loan Status[Completed,Defaulted]. Write your observations."
   ]
  },
  {
   "cell_type": "code",
   "execution_count": 32,
   "metadata": {},
   "outputs": [
    {
     "data": {
      "text/html": [
       "<div>\n",
       "<style scoped>\n",
       "    .dataframe tbody tr th:only-of-type {\n",
       "        vertical-align: middle;\n",
       "    }\n",
       "\n",
       "    .dataframe tbody tr th {\n",
       "        vertical-align: top;\n",
       "    }\n",
       "\n",
       "    .dataframe thead th {\n",
       "        text-align: right;\n",
       "    }\n",
       "</style>\n",
       "<table border=\"1\" class=\"dataframe\">\n",
       "  <thead>\n",
       "    <tr style=\"text-align: right;\">\n",
       "      <th></th>\n",
       "      <th>ListingCreationDate</th>\n",
       "      <th>Term</th>\n",
       "      <th>LoanStatus</th>\n",
       "      <th>ClosedDate</th>\n",
       "      <th>BorrowerAPR</th>\n",
       "      <th>BorrowerRate</th>\n",
       "      <th>LenderYield</th>\n",
       "      <th>ProsperRating (Alpha)</th>\n",
       "      <th>ProsperScore</th>\n",
       "      <th>ListingCategory (numeric)</th>\n",
       "      <th>...</th>\n",
       "      <th>EmploymentStatus</th>\n",
       "      <th>AmountDelinquent</th>\n",
       "      <th>StatedMonthlyIncome</th>\n",
       "      <th>LoanCurrentDaysDelinquent</th>\n",
       "      <th>LoanOriginalAmount</th>\n",
       "      <th>LoanOriginationDate</th>\n",
       "      <th>LoanOriginationQuarter</th>\n",
       "      <th>MonthlyLoanPayment</th>\n",
       "      <th>LP_InterestandFees</th>\n",
       "      <th>Investors</th>\n",
       "    </tr>\n",
       "  </thead>\n",
       "  <tbody>\n",
       "    <tr>\n",
       "      <th>0</th>\n",
       "      <td>2007-08-26 19:09:29.263000000</td>\n",
       "      <td>36</td>\n",
       "      <td>Completed</td>\n",
       "      <td>14-08-2009 0.00</td>\n",
       "      <td>0.16516</td>\n",
       "      <td>0.1580</td>\n",
       "      <td>0.1380</td>\n",
       "      <td>NaN</td>\n",
       "      <td>NaN</td>\n",
       "      <td>None</td>\n",
       "      <td>...</td>\n",
       "      <td>Self-employed</td>\n",
       "      <td>472.0</td>\n",
       "      <td>3083.333333</td>\n",
       "      <td>0</td>\n",
       "      <td>9425</td>\n",
       "      <td>12-09-2007 0.00</td>\n",
       "      <td>Q3 2007</td>\n",
       "      <td>330.43</td>\n",
       "      <td>1971.14</td>\n",
       "      <td>258</td>\n",
       "    </tr>\n",
       "    <tr>\n",
       "      <th>2</th>\n",
       "      <td>2007-01-05 15:00:47.090000000</td>\n",
       "      <td>36</td>\n",
       "      <td>Completed</td>\n",
       "      <td>17-12-2009 0.00</td>\n",
       "      <td>0.28269</td>\n",
       "      <td>0.2750</td>\n",
       "      <td>0.2400</td>\n",
       "      <td>NaN</td>\n",
       "      <td>NaN</td>\n",
       "      <td>None</td>\n",
       "      <td>...</td>\n",
       "      <td>Not available</td>\n",
       "      <td>NaN</td>\n",
       "      <td>2083.333333</td>\n",
       "      <td>0</td>\n",
       "      <td>3001</td>\n",
       "      <td>17-01-2007 0.00</td>\n",
       "      <td>Q1 2007</td>\n",
       "      <td>123.32</td>\n",
       "      <td>1185.63</td>\n",
       "      <td>41</td>\n",
       "    </tr>\n",
       "    <tr>\n",
       "      <th>11</th>\n",
       "      <td>2007-10-09 20:28:33.640000000</td>\n",
       "      <td>36</td>\n",
       "      <td>Completed</td>\n",
       "      <td>07-01-2008 0.00</td>\n",
       "      <td>0.15033</td>\n",
       "      <td>0.1325</td>\n",
       "      <td>0.1225</td>\n",
       "      <td>NaN</td>\n",
       "      <td>NaN</td>\n",
       "      <td>None</td>\n",
       "      <td>...</td>\n",
       "      <td>Full-time</td>\n",
       "      <td>2224.0</td>\n",
       "      <td>1666.666667</td>\n",
       "      <td>0</td>\n",
       "      <td>1000</td>\n",
       "      <td>18-10-2007 0.00</td>\n",
       "      <td>Q4 2007</td>\n",
       "      <td>33.81</td>\n",
       "      <td>11.65</td>\n",
       "      <td>53</td>\n",
       "    </tr>\n",
       "    <tr>\n",
       "      <th>15</th>\n",
       "      <td>2012-04-10 09:14:46.297000000</td>\n",
       "      <td>36</td>\n",
       "      <td>Defaulted</td>\n",
       "      <td>19-12-2012 0.00</td>\n",
       "      <td>0.35797</td>\n",
       "      <td>0.3177</td>\n",
       "      <td>0.3077</td>\n",
       "      <td>HR</td>\n",
       "      <td>5.0</td>\n",
       "      <td>Other</td>\n",
       "      <td>...</td>\n",
       "      <td>Other</td>\n",
       "      <td>0.0</td>\n",
       "      <td>5500.000000</td>\n",
       "      <td>140</td>\n",
       "      <td>4000</td>\n",
       "      <td>19-04-2012 0.00</td>\n",
       "      <td>Q2 2012</td>\n",
       "      <td>173.71</td>\n",
       "      <td>311.38</td>\n",
       "      <td>10</td>\n",
       "    </tr>\n",
       "    <tr>\n",
       "      <th>21</th>\n",
       "      <td>2007-11-30 20:33:49.227000000</td>\n",
       "      <td>36</td>\n",
       "      <td>Completed</td>\n",
       "      <td>12-12-2010 0.00</td>\n",
       "      <td>0.21488</td>\n",
       "      <td>0.2075</td>\n",
       "      <td>0.1975</td>\n",
       "      <td>NaN</td>\n",
       "      <td>NaN</td>\n",
       "      <td>None</td>\n",
       "      <td>...</td>\n",
       "      <td>Full-time</td>\n",
       "      <td>5200.0</td>\n",
       "      <td>3750.000000</td>\n",
       "      <td>0</td>\n",
       "      <td>3000</td>\n",
       "      <td>12-12-2007 0.00</td>\n",
       "      <td>Q4 2007</td>\n",
       "      <td>112.64</td>\n",
       "      <td>1061.05</td>\n",
       "      <td>53</td>\n",
       "    </tr>\n",
       "    <tr>\n",
       "      <th>...</th>\n",
       "      <td>...</td>\n",
       "      <td>...</td>\n",
       "      <td>...</td>\n",
       "      <td>...</td>\n",
       "      <td>...</td>\n",
       "      <td>...</td>\n",
       "      <td>...</td>\n",
       "      <td>...</td>\n",
       "      <td>...</td>\n",
       "      <td>...</td>\n",
       "      <td>...</td>\n",
       "      <td>...</td>\n",
       "      <td>...</td>\n",
       "      <td>...</td>\n",
       "      <td>...</td>\n",
       "      <td>...</td>\n",
       "      <td>...</td>\n",
       "      <td>...</td>\n",
       "      <td>...</td>\n",
       "      <td>...</td>\n",
       "      <td>...</td>\n",
       "    </tr>\n",
       "    <tr>\n",
       "      <th>1022</th>\n",
       "      <td>2009-11-14 21:53:13.970000000</td>\n",
       "      <td>36</td>\n",
       "      <td>Completed</td>\n",
       "      <td>27-11-2012 0.00</td>\n",
       "      <td>0.12511</td>\n",
       "      <td>0.1040</td>\n",
       "      <td>0.0940</td>\n",
       "      <td>A</td>\n",
       "      <td>9.0</td>\n",
       "      <td>Other</td>\n",
       "      <td>...</td>\n",
       "      <td>Full-time</td>\n",
       "      <td>0.0</td>\n",
       "      <td>3416.666667</td>\n",
       "      <td>0</td>\n",
       "      <td>5000</td>\n",
       "      <td>27-11-2009 0.00</td>\n",
       "      <td>Q4 2009</td>\n",
       "      <td>162.28</td>\n",
       "      <td>841.15</td>\n",
       "      <td>158</td>\n",
       "    </tr>\n",
       "    <tr>\n",
       "      <th>1023</th>\n",
       "      <td>2006-03-30 11:08:08.503000000</td>\n",
       "      <td>36</td>\n",
       "      <td>Completed</td>\n",
       "      <td>16-05-2006 0.00</td>\n",
       "      <td>0.08684</td>\n",
       "      <td>0.0800</td>\n",
       "      <td>0.0750</td>\n",
       "      <td>NaN</td>\n",
       "      <td>NaN</td>\n",
       "      <td>None</td>\n",
       "      <td>...</td>\n",
       "      <td>NaN</td>\n",
       "      <td>NaN</td>\n",
       "      <td>8333.333333</td>\n",
       "      <td>0</td>\n",
       "      <td>5000</td>\n",
       "      <td>05-04-2006 0.00</td>\n",
       "      <td>Q2 2006</td>\n",
       "      <td>156.68</td>\n",
       "      <td>32.63</td>\n",
       "      <td>51</td>\n",
       "    </tr>\n",
       "    <tr>\n",
       "      <th>1028</th>\n",
       "      <td>2010-03-12 12:13:42.697000000</td>\n",
       "      <td>36</td>\n",
       "      <td>Completed</td>\n",
       "      <td>23-03-2013 0.00</td>\n",
       "      <td>0.26282</td>\n",
       "      <td>0.2399</td>\n",
       "      <td>0.2299</td>\n",
       "      <td>D</td>\n",
       "      <td>7.0</td>\n",
       "      <td>Debt Consolidation</td>\n",
       "      <td>...</td>\n",
       "      <td>Full-time</td>\n",
       "      <td>0.0</td>\n",
       "      <td>2840.083333</td>\n",
       "      <td>0</td>\n",
       "      <td>3500</td>\n",
       "      <td>23-03-2010 0.00</td>\n",
       "      <td>Q1 2010</td>\n",
       "      <td>131.50</td>\n",
       "      <td>1448.61</td>\n",
       "      <td>209</td>\n",
       "    </tr>\n",
       "    <tr>\n",
       "      <th>1032</th>\n",
       "      <td>2008-09-27 05:42:35.203000000</td>\n",
       "      <td>36</td>\n",
       "      <td>Completed</td>\n",
       "      <td>06-10-2011 0.00</td>\n",
       "      <td>0.19855</td>\n",
       "      <td>0.1765</td>\n",
       "      <td>0.1665</td>\n",
       "      <td>NaN</td>\n",
       "      <td>NaN</td>\n",
       "      <td>None</td>\n",
       "      <td>...</td>\n",
       "      <td>Full-time</td>\n",
       "      <td>0.0</td>\n",
       "      <td>1666.666667</td>\n",
       "      <td>0</td>\n",
       "      <td>5000</td>\n",
       "      <td>06-10-2008 0.00</td>\n",
       "      <td>Q4 2008</td>\n",
       "      <td>179.89</td>\n",
       "      <td>1475.70</td>\n",
       "      <td>176</td>\n",
       "    </tr>\n",
       "    <tr>\n",
       "      <th>1034</th>\n",
       "      <td>2006-12-11 13:41:20.050000000</td>\n",
       "      <td>36</td>\n",
       "      <td>Completed</td>\n",
       "      <td>27-12-2009 0.00</td>\n",
       "      <td>0.10692</td>\n",
       "      <td>0.1000</td>\n",
       "      <td>0.0950</td>\n",
       "      <td>NaN</td>\n",
       "      <td>NaN</td>\n",
       "      <td>None</td>\n",
       "      <td>...</td>\n",
       "      <td>Not available</td>\n",
       "      <td>NaN</td>\n",
       "      <td>4160.000000</td>\n",
       "      <td>0</td>\n",
       "      <td>19500</td>\n",
       "      <td>27-12-2006 0.00</td>\n",
       "      <td>Q4 2006</td>\n",
       "      <td>626.60</td>\n",
       "      <td>3154.17</td>\n",
       "      <td>302</td>\n",
       "    </tr>\n",
       "  </tbody>\n",
       "</table>\n",
       "<p>383 rows × 22 columns</p>\n",
       "</div>"
      ],
      "text/plain": [
       "                ListingCreationDate  Term LoanStatus       ClosedDate  \\\n",
       "0     2007-08-26 19:09:29.263000000    36  Completed  14-08-2009 0.00   \n",
       "2     2007-01-05 15:00:47.090000000    36  Completed  17-12-2009 0.00   \n",
       "11    2007-10-09 20:28:33.640000000    36  Completed  07-01-2008 0.00   \n",
       "15    2012-04-10 09:14:46.297000000    36  Defaulted  19-12-2012 0.00   \n",
       "21    2007-11-30 20:33:49.227000000    36  Completed  12-12-2010 0.00   \n",
       "...                             ...   ...        ...              ...   \n",
       "1022  2009-11-14 21:53:13.970000000    36  Completed  27-11-2012 0.00   \n",
       "1023  2006-03-30 11:08:08.503000000    36  Completed  16-05-2006 0.00   \n",
       "1028  2010-03-12 12:13:42.697000000    36  Completed  23-03-2013 0.00   \n",
       "1032  2008-09-27 05:42:35.203000000    36  Completed  06-10-2011 0.00   \n",
       "1034  2006-12-11 13:41:20.050000000    36  Completed  27-12-2009 0.00   \n",
       "\n",
       "      BorrowerAPR  BorrowerRate  LenderYield ProsperRating (Alpha)  \\\n",
       "0         0.16516        0.1580       0.1380                   NaN   \n",
       "2         0.28269        0.2750       0.2400                   NaN   \n",
       "11        0.15033        0.1325       0.1225                   NaN   \n",
       "15        0.35797        0.3177       0.3077                    HR   \n",
       "21        0.21488        0.2075       0.1975                   NaN   \n",
       "...           ...           ...          ...                   ...   \n",
       "1022      0.12511        0.1040       0.0940                     A   \n",
       "1023      0.08684        0.0800       0.0750                   NaN   \n",
       "1028      0.26282        0.2399       0.2299                     D   \n",
       "1032      0.19855        0.1765       0.1665                   NaN   \n",
       "1034      0.10692        0.1000       0.0950                   NaN   \n",
       "\n",
       "      ProsperScore ListingCategory (numeric)  ... EmploymentStatus  \\\n",
       "0              NaN                      None  ...    Self-employed   \n",
       "2              NaN                      None  ...    Not available   \n",
       "11             NaN                      None  ...        Full-time   \n",
       "15             5.0                     Other  ...            Other   \n",
       "21             NaN                      None  ...        Full-time   \n",
       "...            ...                       ...  ...              ...   \n",
       "1022           9.0                     Other  ...        Full-time   \n",
       "1023           NaN                      None  ...              NaN   \n",
       "1028           7.0        Debt Consolidation  ...        Full-time   \n",
       "1032           NaN                      None  ...        Full-time   \n",
       "1034           NaN                      None  ...    Not available   \n",
       "\n",
       "     AmountDelinquent StatedMonthlyIncome  LoanCurrentDaysDelinquent  \\\n",
       "0               472.0         3083.333333                          0   \n",
       "2                 NaN         2083.333333                          0   \n",
       "11             2224.0         1666.666667                          0   \n",
       "15                0.0         5500.000000                        140   \n",
       "21             5200.0         3750.000000                          0   \n",
       "...               ...                 ...                        ...   \n",
       "1022              0.0         3416.666667                          0   \n",
       "1023              NaN         8333.333333                          0   \n",
       "1028              0.0         2840.083333                          0   \n",
       "1032              0.0         1666.666667                          0   \n",
       "1034              NaN         4160.000000                          0   \n",
       "\n",
       "      LoanOriginalAmount  LoanOriginationDate  LoanOriginationQuarter  \\\n",
       "0                   9425      12-09-2007 0.00                 Q3 2007   \n",
       "2                   3001      17-01-2007 0.00                 Q1 2007   \n",
       "11                  1000      18-10-2007 0.00                 Q4 2007   \n",
       "15                  4000      19-04-2012 0.00                 Q2 2012   \n",
       "21                  3000      12-12-2007 0.00                 Q4 2007   \n",
       "...                  ...                  ...                     ...   \n",
       "1022                5000      27-11-2009 0.00                 Q4 2009   \n",
       "1023                5000      05-04-2006 0.00                 Q2 2006   \n",
       "1028                3500      23-03-2010 0.00                 Q1 2010   \n",
       "1032                5000      06-10-2008 0.00                 Q4 2008   \n",
       "1034               19500      27-12-2006 0.00                 Q4 2006   \n",
       "\n",
       "     MonthlyLoanPayment LP_InterestandFees  Investors  \n",
       "0                330.43            1971.14        258  \n",
       "2                123.32            1185.63         41  \n",
       "11                33.81              11.65         53  \n",
       "15               173.71             311.38         10  \n",
       "21               112.64            1061.05         53  \n",
       "...                 ...                ...        ...  \n",
       "1022             162.28             841.15        158  \n",
       "1023             156.68              32.63         51  \n",
       "1028             131.50            1448.61        209  \n",
       "1032             179.89            1475.70        176  \n",
       "1034             626.60            3154.17        302  \n",
       "\n",
       "[383 rows x 22 columns]"
      ]
     },
     "execution_count": 32,
     "metadata": {},
     "output_type": "execute_result"
    }
   ],
   "source": [
    "# creating seprate dataframe for Loan Staus = Completed,Defaulted\n",
    "\n",
    "x =df[(df['LoanStatus']== 'Completed')| (df['LoanStatus'] == 'Defaulted')]\n",
    "x"
   ]
  },
  {
   "cell_type": "code",
   "execution_count": 33,
   "metadata": {},
   "outputs": [
    {
     "data": {
      "text/html": [
       "<div>\n",
       "<style scoped>\n",
       "    .dataframe tbody tr th:only-of-type {\n",
       "        vertical-align: middle;\n",
       "    }\n",
       "\n",
       "    .dataframe tbody tr th {\n",
       "        vertical-align: top;\n",
       "    }\n",
       "\n",
       "    .dataframe thead th {\n",
       "        text-align: right;\n",
       "    }\n",
       "</style>\n",
       "<table border=\"1\" class=\"dataframe\">\n",
       "  <thead>\n",
       "    <tr style=\"text-align: right;\">\n",
       "      <th></th>\n",
       "      <th>ListingCreationDate</th>\n",
       "      <th>Term</th>\n",
       "      <th>LoanStatus</th>\n",
       "      <th>ClosedDate</th>\n",
       "      <th>BorrowerAPR</th>\n",
       "      <th>BorrowerRate</th>\n",
       "      <th>LenderYield</th>\n",
       "      <th>ProsperRating (Alpha)</th>\n",
       "      <th>ProsperScore</th>\n",
       "      <th>ListingCategory (numeric)</th>\n",
       "      <th>...</th>\n",
       "      <th>EmploymentStatus</th>\n",
       "      <th>AmountDelinquent</th>\n",
       "      <th>StatedMonthlyIncome</th>\n",
       "      <th>LoanCurrentDaysDelinquent</th>\n",
       "      <th>LoanOriginalAmount</th>\n",
       "      <th>LoanOriginationDate</th>\n",
       "      <th>LoanOriginationQuarter</th>\n",
       "      <th>MonthlyLoanPayment</th>\n",
       "      <th>LP_InterestandFees</th>\n",
       "      <th>Investors</th>\n",
       "    </tr>\n",
       "  </thead>\n",
       "  <tbody>\n",
       "    <tr>\n",
       "      <th>15</th>\n",
       "      <td>2012-04-10 09:14:46.297000000</td>\n",
       "      <td>36</td>\n",
       "      <td>Defaulted</td>\n",
       "      <td>19-12-2012 0.00</td>\n",
       "      <td>0.35797</td>\n",
       "      <td>0.3177</td>\n",
       "      <td>0.3077</td>\n",
       "      <td>HR</td>\n",
       "      <td>5.0</td>\n",
       "      <td>Other</td>\n",
       "      <td>...</td>\n",
       "      <td>Other</td>\n",
       "      <td>0.0</td>\n",
       "      <td>5500.000000</td>\n",
       "      <td>140</td>\n",
       "      <td>4000</td>\n",
       "      <td>19-04-2012 0.00</td>\n",
       "      <td>Q2 2012</td>\n",
       "      <td>173.71</td>\n",
       "      <td>311.38</td>\n",
       "      <td>10</td>\n",
       "    </tr>\n",
       "    <tr>\n",
       "      <th>23</th>\n",
       "      <td>2013-04-22 13:29:19.073000000</td>\n",
       "      <td>36</td>\n",
       "      <td>Defaulted</td>\n",
       "      <td>26-12-2013 0.00</td>\n",
       "      <td>0.28032</td>\n",
       "      <td>0.2419</td>\n",
       "      <td>0.2319</td>\n",
       "      <td>D</td>\n",
       "      <td>5.0</td>\n",
       "      <td>Other</td>\n",
       "      <td>...</td>\n",
       "      <td>Employed</td>\n",
       "      <td>0.0</td>\n",
       "      <td>2500.000000</td>\n",
       "      <td>193</td>\n",
       "      <td>2000</td>\n",
       "      <td>26-04-2013 0.00</td>\n",
       "      <td>Q2 2013</td>\n",
       "      <td>78.67</td>\n",
       "      <td>118.28</td>\n",
       "      <td>30</td>\n",
       "    </tr>\n",
       "    <tr>\n",
       "      <th>26</th>\n",
       "      <td>2013-02-12 18:07:31.690000000</td>\n",
       "      <td>60</td>\n",
       "      <td>Completed</td>\n",
       "      <td>22-10-2013 0.00</td>\n",
       "      <td>0.30748</td>\n",
       "      <td>0.2809</td>\n",
       "      <td>0.2709</td>\n",
       "      <td>E</td>\n",
       "      <td>3.0</td>\n",
       "      <td>Debt Consolidation</td>\n",
       "      <td>...</td>\n",
       "      <td>Employed</td>\n",
       "      <td>0.0</td>\n",
       "      <td>3885.916667</td>\n",
       "      <td>0</td>\n",
       "      <td>4000</td>\n",
       "      <td>21-02-2013 0.00</td>\n",
       "      <td>Q1 2013</td>\n",
       "      <td>124.76</td>\n",
       "      <td>725.35</td>\n",
       "      <td>37</td>\n",
       "    </tr>\n",
       "    <tr>\n",
       "      <th>27</th>\n",
       "      <td>2010-06-16 16:23:44.533000000</td>\n",
       "      <td>36</td>\n",
       "      <td>Completed</td>\n",
       "      <td>03-07-2013 0.00</td>\n",
       "      <td>0.11296</td>\n",
       "      <td>0.0920</td>\n",
       "      <td>0.0820</td>\n",
       "      <td>A</td>\n",
       "      <td>9.0</td>\n",
       "      <td>Debt Consolidation</td>\n",
       "      <td>...</td>\n",
       "      <td>Full-time</td>\n",
       "      <td>0.0</td>\n",
       "      <td>6666.666667</td>\n",
       "      <td>0</td>\n",
       "      <td>4000</td>\n",
       "      <td>24-06-2010 0.00</td>\n",
       "      <td>Q2 2010</td>\n",
       "      <td>0.00</td>\n",
       "      <td>594.48</td>\n",
       "      <td>121</td>\n",
       "    </tr>\n",
       "    <tr>\n",
       "      <th>30</th>\n",
       "      <td>2012-01-30 17:59:17.200000000</td>\n",
       "      <td>36</td>\n",
       "      <td>Completed</td>\n",
       "      <td>19-12-2012 0.00</td>\n",
       "      <td>0.12782</td>\n",
       "      <td>0.0999</td>\n",
       "      <td>0.0899</td>\n",
       "      <td>A</td>\n",
       "      <td>9.0</td>\n",
       "      <td>Other</td>\n",
       "      <td>...</td>\n",
       "      <td>Employed</td>\n",
       "      <td>42488.0</td>\n",
       "      <td>3750.000000</td>\n",
       "      <td>0</td>\n",
       "      <td>10000</td>\n",
       "      <td>07-02-2012 0.00</td>\n",
       "      <td>Q1 2012</td>\n",
       "      <td>322.62</td>\n",
       "      <td>686.32</td>\n",
       "      <td>30</td>\n",
       "    </tr>\n",
       "    <tr>\n",
       "      <th>...</th>\n",
       "      <td>...</td>\n",
       "      <td>...</td>\n",
       "      <td>...</td>\n",
       "      <td>...</td>\n",
       "      <td>...</td>\n",
       "      <td>...</td>\n",
       "      <td>...</td>\n",
       "      <td>...</td>\n",
       "      <td>...</td>\n",
       "      <td>...</td>\n",
       "      <td>...</td>\n",
       "      <td>...</td>\n",
       "      <td>...</td>\n",
       "      <td>...</td>\n",
       "      <td>...</td>\n",
       "      <td>...</td>\n",
       "      <td>...</td>\n",
       "      <td>...</td>\n",
       "      <td>...</td>\n",
       "      <td>...</td>\n",
       "      <td>...</td>\n",
       "    </tr>\n",
       "    <tr>\n",
       "      <th>1009</th>\n",
       "      <td>2011-04-06 13:51:20.827000000</td>\n",
       "      <td>36</td>\n",
       "      <td>Completed</td>\n",
       "      <td>26-04-2011 0.00</td>\n",
       "      <td>0.34887</td>\n",
       "      <td>0.3125</td>\n",
       "      <td>0.3025</td>\n",
       "      <td>HR</td>\n",
       "      <td>4.0</td>\n",
       "      <td>Other</td>\n",
       "      <td>...</td>\n",
       "      <td>Employed</td>\n",
       "      <td>0.0</td>\n",
       "      <td>6833.333333</td>\n",
       "      <td>0</td>\n",
       "      <td>3000</td>\n",
       "      <td>12-04-2011 0.00</td>\n",
       "      <td>Q2 2011</td>\n",
       "      <td>129.42</td>\n",
       "      <td>35.96</td>\n",
       "      <td>30</td>\n",
       "    </tr>\n",
       "    <tr>\n",
       "      <th>1013</th>\n",
       "      <td>2009-12-09 10:30:37.397000000</td>\n",
       "      <td>36</td>\n",
       "      <td>Completed</td>\n",
       "      <td>23-03-2011 0.00</td>\n",
       "      <td>0.07339</td>\n",
       "      <td>0.0700</td>\n",
       "      <td>0.0600</td>\n",
       "      <td>AA</td>\n",
       "      <td>10.0</td>\n",
       "      <td>Business</td>\n",
       "      <td>...</td>\n",
       "      <td>Full-time</td>\n",
       "      <td>0.0</td>\n",
       "      <td>5000.000000</td>\n",
       "      <td>0</td>\n",
       "      <td>1000</td>\n",
       "      <td>23-12-2009 0.00</td>\n",
       "      <td>Q4 2009</td>\n",
       "      <td>30.88</td>\n",
       "      <td>60.11</td>\n",
       "      <td>47</td>\n",
       "    </tr>\n",
       "    <tr>\n",
       "      <th>1018</th>\n",
       "      <td>2012-09-10 15:22:22.187000000</td>\n",
       "      <td>36</td>\n",
       "      <td>Completed</td>\n",
       "      <td>13-12-2013 0.00</td>\n",
       "      <td>0.28339</td>\n",
       "      <td>0.2449</td>\n",
       "      <td>0.2349</td>\n",
       "      <td>D</td>\n",
       "      <td>7.0</td>\n",
       "      <td>Other</td>\n",
       "      <td>...</td>\n",
       "      <td>Employed</td>\n",
       "      <td>3606.0</td>\n",
       "      <td>4166.666667</td>\n",
       "      <td>0</td>\n",
       "      <td>9000</td>\n",
       "      <td>13-09-2012 0.00</td>\n",
       "      <td>Q3 2012</td>\n",
       "      <td>355.42</td>\n",
       "      <td>2086.23</td>\n",
       "      <td>181</td>\n",
       "    </tr>\n",
       "    <tr>\n",
       "      <th>1022</th>\n",
       "      <td>2009-11-14 21:53:13.970000000</td>\n",
       "      <td>36</td>\n",
       "      <td>Completed</td>\n",
       "      <td>27-11-2012 0.00</td>\n",
       "      <td>0.12511</td>\n",
       "      <td>0.1040</td>\n",
       "      <td>0.0940</td>\n",
       "      <td>A</td>\n",
       "      <td>9.0</td>\n",
       "      <td>Other</td>\n",
       "      <td>...</td>\n",
       "      <td>Full-time</td>\n",
       "      <td>0.0</td>\n",
       "      <td>3416.666667</td>\n",
       "      <td>0</td>\n",
       "      <td>5000</td>\n",
       "      <td>27-11-2009 0.00</td>\n",
       "      <td>Q4 2009</td>\n",
       "      <td>162.28</td>\n",
       "      <td>841.15</td>\n",
       "      <td>158</td>\n",
       "    </tr>\n",
       "    <tr>\n",
       "      <th>1028</th>\n",
       "      <td>2010-03-12 12:13:42.697000000</td>\n",
       "      <td>36</td>\n",
       "      <td>Completed</td>\n",
       "      <td>23-03-2013 0.00</td>\n",
       "      <td>0.26282</td>\n",
       "      <td>0.2399</td>\n",
       "      <td>0.2299</td>\n",
       "      <td>D</td>\n",
       "      <td>7.0</td>\n",
       "      <td>Debt Consolidation</td>\n",
       "      <td>...</td>\n",
       "      <td>Full-time</td>\n",
       "      <td>0.0</td>\n",
       "      <td>2840.083333</td>\n",
       "      <td>0</td>\n",
       "      <td>3500</td>\n",
       "      <td>23-03-2010 0.00</td>\n",
       "      <td>Q1 2010</td>\n",
       "      <td>131.50</td>\n",
       "      <td>1448.61</td>\n",
       "      <td>209</td>\n",
       "    </tr>\n",
       "  </tbody>\n",
       "</table>\n",
       "<p>179 rows × 22 columns</p>\n",
       "</div>"
      ],
      "text/plain": [
       "                ListingCreationDate  Term LoanStatus       ClosedDate  \\\n",
       "15    2012-04-10 09:14:46.297000000    36  Defaulted  19-12-2012 0.00   \n",
       "23    2013-04-22 13:29:19.073000000    36  Defaulted  26-12-2013 0.00   \n",
       "26    2013-02-12 18:07:31.690000000    60  Completed  22-10-2013 0.00   \n",
       "27    2010-06-16 16:23:44.533000000    36  Completed  03-07-2013 0.00   \n",
       "30    2012-01-30 17:59:17.200000000    36  Completed  19-12-2012 0.00   \n",
       "...                             ...   ...        ...              ...   \n",
       "1009  2011-04-06 13:51:20.827000000    36  Completed  26-04-2011 0.00   \n",
       "1013  2009-12-09 10:30:37.397000000    36  Completed  23-03-2011 0.00   \n",
       "1018  2012-09-10 15:22:22.187000000    36  Completed  13-12-2013 0.00   \n",
       "1022  2009-11-14 21:53:13.970000000    36  Completed  27-11-2012 0.00   \n",
       "1028  2010-03-12 12:13:42.697000000    36  Completed  23-03-2013 0.00   \n",
       "\n",
       "      BorrowerAPR  BorrowerRate  LenderYield ProsperRating (Alpha)  \\\n",
       "15        0.35797        0.3177       0.3077                    HR   \n",
       "23        0.28032        0.2419       0.2319                     D   \n",
       "26        0.30748        0.2809       0.2709                     E   \n",
       "27        0.11296        0.0920       0.0820                     A   \n",
       "30        0.12782        0.0999       0.0899                     A   \n",
       "...           ...           ...          ...                   ...   \n",
       "1009      0.34887        0.3125       0.3025                    HR   \n",
       "1013      0.07339        0.0700       0.0600                    AA   \n",
       "1018      0.28339        0.2449       0.2349                     D   \n",
       "1022      0.12511        0.1040       0.0940                     A   \n",
       "1028      0.26282        0.2399       0.2299                     D   \n",
       "\n",
       "      ProsperScore ListingCategory (numeric)  ... EmploymentStatus  \\\n",
       "15             5.0                     Other  ...            Other   \n",
       "23             5.0                     Other  ...         Employed   \n",
       "26             3.0        Debt Consolidation  ...         Employed   \n",
       "27             9.0        Debt Consolidation  ...        Full-time   \n",
       "30             9.0                     Other  ...         Employed   \n",
       "...            ...                       ...  ...              ...   \n",
       "1009           4.0                     Other  ...         Employed   \n",
       "1013          10.0                  Business  ...        Full-time   \n",
       "1018           7.0                     Other  ...         Employed   \n",
       "1022           9.0                     Other  ...        Full-time   \n",
       "1028           7.0        Debt Consolidation  ...        Full-time   \n",
       "\n",
       "     AmountDelinquent StatedMonthlyIncome  LoanCurrentDaysDelinquent  \\\n",
       "15                0.0         5500.000000                        140   \n",
       "23                0.0         2500.000000                        193   \n",
       "26                0.0         3885.916667                          0   \n",
       "27                0.0         6666.666667                          0   \n",
       "30            42488.0         3750.000000                          0   \n",
       "...               ...                 ...                        ...   \n",
       "1009              0.0         6833.333333                          0   \n",
       "1013              0.0         5000.000000                          0   \n",
       "1018           3606.0         4166.666667                          0   \n",
       "1022              0.0         3416.666667                          0   \n",
       "1028              0.0         2840.083333                          0   \n",
       "\n",
       "      LoanOriginalAmount  LoanOriginationDate  LoanOriginationQuarter  \\\n",
       "15                  4000      19-04-2012 0.00                 Q2 2012   \n",
       "23                  2000      26-04-2013 0.00                 Q2 2013   \n",
       "26                  4000      21-02-2013 0.00                 Q1 2013   \n",
       "27                  4000      24-06-2010 0.00                 Q2 2010   \n",
       "30                 10000      07-02-2012 0.00                 Q1 2012   \n",
       "...                  ...                  ...                     ...   \n",
       "1009                3000      12-04-2011 0.00                 Q2 2011   \n",
       "1013                1000      23-12-2009 0.00                 Q4 2009   \n",
       "1018                9000      13-09-2012 0.00                 Q3 2012   \n",
       "1022                5000      27-11-2009 0.00                 Q4 2009   \n",
       "1028                3500      23-03-2010 0.00                 Q1 2010   \n",
       "\n",
       "     MonthlyLoanPayment LP_InterestandFees  Investors  \n",
       "15               173.71             311.38         10  \n",
       "23                78.67             118.28         30  \n",
       "26               124.76             725.35         37  \n",
       "27                 0.00             594.48        121  \n",
       "30               322.62             686.32         30  \n",
       "...                 ...                ...        ...  \n",
       "1009             129.42              35.96         30  \n",
       "1013              30.88              60.11         47  \n",
       "1018             355.42            2086.23        181  \n",
       "1022             162.28             841.15        158  \n",
       "1028             131.50            1448.61        209  \n",
       "\n",
       "[179 rows x 22 columns]"
      ]
     },
     "execution_count": 33,
     "metadata": {},
     "output_type": "execute_result"
    }
   ],
   "source": [
    "new_data=x.dropna(axis=0)\n",
    "new_data"
   ]
  },
  {
   "cell_type": "code",
   "execution_count": 34,
   "metadata": {},
   "outputs": [
    {
     "data": {
      "text/plain": [
       "<AxesSubplot:xlabel='ProsperRating (Alpha)', ylabel='LoanOriginalAmount'>"
      ]
     },
     "execution_count": 34,
     "metadata": {},
     "output_type": "execute_result"
    },
    {
     "data": {
      "image/png": "[encoded data removed]",
      "text/plain": [
       "<Figure size 1296x360 with 1 Axes>"
      ]
     },
     "metadata": {
      "needs_background": "light"
     },
     "output_type": "display_data"
    }
   ],
   "source": [
    "plt.figure(figsize =(18,5))\n",
    "sns.boxplot(x = x['ProsperRating (Alpha)'],y = x['LoanOriginalAmount'], hue = x['LoanStatus'], data = x)"
   ]
  },
  {
   "cell_type": "markdown",
   "metadata": {},
   "source": [
    "Observations:\n",
    "\n",
    "1) Only Whose LoanStatus is 'completed' have a outliers.\n",
    "2)ProsperRaiting D,E,C haave a default status.\n"
   ]
  },
  {
   "cell_type": "markdown",
   "metadata": {},
   "source": [
    "# D. Display the catplot for ProsperRating (Alpha) vs ListingCategory (numeric)[Debt Consolidation,Other,Business,Home Improvement,Auto] and hue = Loan Status[Completed,Defaulted]. Write your observations."
   ]
  },
  {
   "cell_type": "code",
   "execution_count": 35,
   "metadata": {},
   "outputs": [
    {
     "ename": "ValueError",
     "evalue": "The truth value of a Series is ambiguous. Use a.empty, a.bool(), a.item(), a.any() or a.all().",
     "output_type": "error",
     "traceback": [
      "\u001b[1;31m---------------------------------------------------------------------------\u001b[0m",
      "\u001b[1;31mValueError\u001b[0m                                Traceback (most recent call last)",
      "\u001b[1;32m<ipython-input-35-545dafa22b96>\u001b[0m in \u001b[0;36m<module>\u001b[1;34m\u001b[0m\n\u001b[1;32m----> 1\u001b[1;33m \u001b[0mg\u001b[0m \u001b[1;33m=\u001b[0m \u001b[0msns\u001b[0m\u001b[1;33m.\u001b[0m\u001b[0mcatplot\u001b[0m\u001b[1;33m(\u001b[0m\u001b[0mx\u001b[0m\u001b[1;33m=\u001b[0m\u001b[0mnew_data\u001b[0m\u001b[1;33m[\u001b[0m\u001b[1;34m\"ProsperRating (Alpha)\"\u001b[0m\u001b[1;33m]\u001b[0m\u001b[1;33m,\u001b[0m\u001b[0my\u001b[0m\u001b[1;33m=\u001b[0m\u001b[0mnew_data\u001b[0m\u001b[1;33m[\u001b[0m\u001b[1;34m\"ListingCategory (numeric)\"\u001b[0m\u001b[1;33m]\u001b[0m\u001b[1;33m,\u001b[0m\u001b[0mhue\u001b[0m\u001b[1;33m=\u001b[0m\u001b[0mnew_data\u001b[0m\u001b[1;33m[\u001b[0m\u001b[1;34m'LoanStatus'\u001b[0m\u001b[1;33m]\u001b[0m\u001b[1;33m,\u001b[0m\u001b[0mkind\u001b[0m \u001b[1;33m=\u001b[0m \u001b[1;34m'swarm'\u001b[0m\u001b[1;33m,\u001b[0m\u001b[0mdata\u001b[0m\u001b[1;33m=\u001b[0m\u001b[0mnew_data\u001b[0m\u001b[1;33m)\u001b[0m\u001b[1;33m\u001b[0m\u001b[1;33m\u001b[0m\u001b[0m\n\u001b[0m",
      "\u001b[1;32m~\\anaconda3\\lib\\site-packages\\seaborn\\_decorators.py\u001b[0m in \u001b[0;36minner_f\u001b[1;34m(*args, **kwargs)\u001b[0m\n\u001b[0;32m     44\u001b[0m             )\n\u001b[0;32m     45\u001b[0m         \u001b[0mkwargs\u001b[0m\u001b[1;33m.\u001b[0m\u001b[0mupdate\u001b[0m\u001b[1;33m(\u001b[0m\u001b[1;33m{\u001b[0m\u001b[0mk\u001b[0m\u001b[1;33m:\u001b[0m \u001b[0marg\u001b[0m \u001b[1;32mfor\u001b[0m \u001b[0mk\u001b[0m\u001b[1;33m,\u001b[0m \u001b[0marg\u001b[0m \u001b[1;32min\u001b[0m \u001b[0mzip\u001b[0m\u001b[1;33m(\u001b[0m\u001b[0msig\u001b[0m\u001b[1;33m.\u001b[0m\u001b[0mparameters\u001b[0m\u001b[1;33m,\u001b[0m \u001b[0margs\u001b[0m\u001b[1;33m)\u001b[0m\u001b[1;33m}\u001b[0m\u001b[1;33m)\u001b[0m\u001b[1;33m\u001b[0m\u001b[1;33m\u001b[0m\u001b[0m\n\u001b[1;32m---> 46\u001b[1;33m         \u001b[1;32mreturn\u001b[0m \u001b[0mf\u001b[0m\u001b[1;33m(\u001b[0m\u001b[1;33m**\u001b[0m\u001b[0mkwargs\u001b[0m\u001b[1;33m)\u001b[0m\u001b[1;33m\u001b[0m\u001b[1;33m\u001b[0m\u001b[0m\n\u001b[0m\u001b[0;32m     47\u001b[0m     \u001b[1;32mreturn\u001b[0m \u001b[0minner_f\u001b[0m\u001b[1;33m\u001b[0m\u001b[1;33m\u001b[0m\u001b[0m\n\u001b[0;32m     48\u001b[0m \u001b[1;33m\u001b[0m\u001b[0m\n",
      "\u001b[1;32m~\\anaconda3\\lib\\site-packages\\seaborn\\categorical.py\u001b[0m in \u001b[0;36mcatplot\u001b[1;34m(x, y, hue, data, row, col, col_wrap, estimator, ci, n_boot, units, seed, order, hue_order, row_order, col_order, kind, height, aspect, orient, color, palette, legend, legend_out, sharex, sharey, margin_titles, facet_kws, **kwargs)\u001b[0m\n\u001b[0;32m   3846\u001b[0m             \u001b[0mg\u001b[0m\u001b[1;33m.\u001b[0m\u001b[0mset_axis_labels\u001b[0m\u001b[1;33m(\u001b[0m\u001b[0my_var\u001b[0m\u001b[1;33m=\u001b[0m\u001b[1;34m\"count\"\u001b[0m\u001b[1;33m)\u001b[0m\u001b[1;33m\u001b[0m\u001b[1;33m\u001b[0m\u001b[0m\n\u001b[0;32m   3847\u001b[0m \u001b[1;33m\u001b[0m\u001b[0m\n\u001b[1;32m-> 3848\u001b[1;33m     \u001b[1;32mif\u001b[0m \u001b[0mlegend\u001b[0m \u001b[1;32mand\u001b[0m \u001b[1;33m(\u001b[0m\u001b[0mhue\u001b[0m \u001b[1;32mis\u001b[0m \u001b[1;32mnot\u001b[0m \u001b[1;32mNone\u001b[0m\u001b[1;33m)\u001b[0m \u001b[1;32mand\u001b[0m \u001b[1;33m(\u001b[0m\u001b[0mhue\u001b[0m \u001b[1;32mnot\u001b[0m \u001b[1;32min\u001b[0m \u001b[1;33m[\u001b[0m\u001b[0mx\u001b[0m\u001b[1;33m,\u001b[0m \u001b[0mrow\u001b[0m\u001b[1;33m,\u001b[0m \u001b[0mcol\u001b[0m\u001b[1;33m]\u001b[0m\u001b[1;33m)\u001b[0m\u001b[1;33m:\u001b[0m\u001b[1;33m\u001b[0m\u001b[1;33m\u001b[0m\u001b[0m\n\u001b[0m\u001b[0;32m   3849\u001b[0m         \u001b[0mhue_order\u001b[0m \u001b[1;33m=\u001b[0m \u001b[0mlist\u001b[0m\u001b[1;33m(\u001b[0m\u001b[0mmap\u001b[0m\u001b[1;33m(\u001b[0m\u001b[0mutils\u001b[0m\u001b[1;33m.\u001b[0m\u001b[0mto_utf8\u001b[0m\u001b[1;33m,\u001b[0m \u001b[0mhue_order\u001b[0m\u001b[1;33m)\u001b[0m\u001b[1;33m)\u001b[0m\u001b[1;33m\u001b[0m\u001b[1;33m\u001b[0m\u001b[0m\n\u001b[0;32m   3850\u001b[0m         \u001b[0mg\u001b[0m\u001b[1;33m.\u001b[0m\u001b[0madd_legend\u001b[0m\u001b[1;33m(\u001b[0m\u001b[0mtitle\u001b[0m\u001b[1;33m=\u001b[0m\u001b[0mhue\u001b[0m\u001b[1;33m,\u001b[0m \u001b[0mlabel_order\u001b[0m\u001b[1;33m=\u001b[0m\u001b[0mhue_order\u001b[0m\u001b[1;33m)\u001b[0m\u001b[1;33m\u001b[0m\u001b[1;33m\u001b[0m\u001b[0m\n",
      "\u001b[1;32m~\\anaconda3\\lib\\site-packages\\pandas\\core\\generic.py\u001b[0m in \u001b[0;36m__nonzero__\u001b[1;34m(self)\u001b[0m\n\u001b[0;32m   1327\u001b[0m \u001b[1;33m\u001b[0m\u001b[0m\n\u001b[0;32m   1328\u001b[0m     \u001b[1;32mdef\u001b[0m \u001b[0m__nonzero__\u001b[0m\u001b[1;33m(\u001b[0m\u001b[0mself\u001b[0m\u001b[1;33m)\u001b[0m\u001b[1;33m:\u001b[0m\u001b[1;33m\u001b[0m\u001b[1;33m\u001b[0m\u001b[0m\n\u001b[1;32m-> 1329\u001b[1;33m         raise ValueError(\n\u001b[0m\u001b[0;32m   1330\u001b[0m             \u001b[1;34mf\"The truth value of a {type(self).__name__} is ambiguous. \"\u001b[0m\u001b[1;33m\u001b[0m\u001b[1;33m\u001b[0m\u001b[0m\n\u001b[0;32m   1331\u001b[0m             \u001b[1;34m\"Use a.empty, a.bool(), a.item(), a.any() or a.all().\"\u001b[0m\u001b[1;33m\u001b[0m\u001b[1;33m\u001b[0m\u001b[0m\n",
      "\u001b[1;31mValueError\u001b[0m: The truth value of a Series is ambiguous. Use a.empty, a.bool(), a.item(), a.any() or a.all()."
     ]
    },
    {
     "data": {
      "image/png": "[encoded data removed]",
      "text/plain": [
       "<Figure size 360x360 with 1 Axes>"
      ]
     },
     "metadata": {
      "needs_background": "light"
     },
     "output_type": "display_data"
    }
   ],
   "source": [
    "g = sns.catplot(x=new_data[\"ProsperRating (Alpha)\"],y=new_data[\"ListingCategory (numeric)\"],hue=new_data['LoanStatus'],kind = 'swarm',data=new_data)"
   ]
  },
  {
   "cell_type": "code",
   "execution_count": null,
   "metadata": {},
   "outputs": [],
   "source": [
    "g = sns.swarmplot(x=new_data[\"ProsperRating (Alpha)\"],y=new_data[\"ListingCategory (numeric)\"],hue=new_data['LoanStatus'])"
   ]
  },
  {
   "cell_type": "markdown",
   "metadata": {},
   "source": [
    "Observation:\n",
    "\n",
    "We are not able to plot catplot for these data becuase catplot can not be plot for every  categorical variable . Same has been cross checked by Swarmplot"
   ]
  },
  {
   "cell_type": "code",
   "execution_count": null,
   "metadata": {},
   "outputs": [],
   "source": []
  }
 ],
 "metadata": {
  "kernelspec": {
   "display_name": "Python 3",
   "language": "python",
   "name": "python3"
  },
  "language_info": {
   "codemirror_mode": {
    "name": "ipython",
    "version": 3
   },
   "file_extension": ".py",
   "mimetype": "text/x-python",
   "name": "python",
   "nbconvert_exporter": "python",
   "pygments_lexer": "ipython3",
   "version": "3.8.5"
  }
 },
 "nbformat": 4,
 "nbformat_minor": 4
}
